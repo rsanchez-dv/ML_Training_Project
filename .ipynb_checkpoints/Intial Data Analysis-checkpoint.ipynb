{
 "cells": [
  {
   "cell_type": "markdown",
   "id": "509c0c52",
   "metadata": {},
   "source": [
    "# Initial Data Analysis\n",
    "## Importing Libraries\n"
   ]
  },
  {
   "cell_type": "code",
   "execution_count": null,
   "id": "07066194",
   "metadata": {},
   "outputs": [],
   "source": [
    "import pandas as pd\n",
    "import numpy as np\n",
    "import matplotlib.pyplot as plt\n",
    "import seaborn as sns\n"
   ]
  },
  {
   "cell_type": "code",
   "execution_count": null,
   "id": "5dc71d9a",
   "metadata": {},
   "outputs": [],
   "source": [
    "loan_train_df = pd.read_csv('./Loan_App_Data/train.csv')\n",
    "loan_test_df = pd.read_csv('./Loan_App_Data/test.csv')\n",
    "\n",
    "business_train_df = pd.read_csv('./ABC_Private_Limited_Data/train.csv') \n",
    "business_test_df = pd.read_csv('./ABC_Private_Limited_Data/test.csv')\n",
    "\n",
    "loan_train_df.head()\n",
    "loan_test_df.head()"
   ]
  },
  {
   "cell_type": "code",
   "execution_count": null,
   "id": "74774cbd",
   "metadata": {},
   "outputs": [],
   "source": [
    "def initial_Analysis(df):\n",
    "    print(\"Printing intial analysis of passed dataframe:\")\n",
    "    print(\"==============================================\")\n",
    "    print(\"DF Shape:\")\n",
    "    print(\"----------------------------------------------\")\n",
    "    display(df.shape)\n",
    "    print(\"DF Info\")\n",
    "    print(\"----------------------------------------------\")\n",
    "    display(df.info)\n",
    "    print(\"DF columns:\")\n",
    "    print(\"----------------------------------------------\")\n",
    "    display(df.columns)\n",
    "    print(\"DF dtypes:\")\n",
    "    print(\"----------------------------------------------\")\n",
    "    display(df.dtypes)\n",
    "    print(\"Nan Values:\")\n",
    "    print(\"----------------------------------------------\")\n",
    "    print(f\"Are there any NaN values: {df.isnull().values.any()}\")\n",
    "    display(df.isnull().sum())\n",
    "    print(\"Heatmap for null values:\")\n",
    "    print(\"----------------------------------------------\")\n",
    "    plt.figure(figsize = (18,6))\n",
    "    display(sns.heatmap(data=df.isnull(), yticklabels=False, cbar=False, cmap='viridis' ))\n",
    "    print(\"DF describe:\")\n",
    "    print(\"----------------------------------------------\")\n",
    "    display(df.describe())\n",
    "    print(\"Showing Correlation:\")\n",
    "    display(sns.heatmap(df.corr()))\n",
    "    print(\"Displaying Histogram:\")\n",
    "    display(sns.pairplot(df))"
   ]
  },
  {
   "cell_type": "code",
   "execution_count": null,
   "id": "4b70f718",
   "metadata": {
    "scrolled": true
   },
   "outputs": [],
   "source": [
    "initial_Analysis(loan_train_df)"
   ]
  },
  {
   "cell_type": "code",
   "execution_count": null,
   "id": "f0300a9b",
   "metadata": {},
   "outputs": [],
   "source": [
    "initial_Analysis(loan_test_df)"
   ]
  },
  {
   "cell_type": "code",
   "execution_count": null,
   "id": "a31b57c1",
   "metadata": {},
   "outputs": [],
   "source": [
    "initial_Analysis(business_train_df)"
   ]
  },
  {
   "cell_type": "code",
   "execution_count": null,
   "id": "95b156f5",
   "metadata": {},
   "outputs": [],
   "source": [
    "initial_Analysis(business_test_df)"
   ]
  },
  {
   "cell_type": "code",
   "execution_count": null,
   "id": "6649dade",
   "metadata": {},
   "outputs": [],
   "source": []
  }
 ],
 "metadata": {
  "kernelspec": {
   "display_name": "Python 3",
   "language": "python",
   "name": "python3"
  },
  "language_info": {
   "codemirror_mode": {
    "name": "ipython",
    "version": 3
   },
   "file_extension": ".py",
   "mimetype": "text/x-python",
   "name": "python",
   "nbconvert_exporter": "python",
   "pygments_lexer": "ipython3",
   "version": "3.8.8"
  }
 },
 "nbformat": 4,
 "nbformat_minor": 5
}
