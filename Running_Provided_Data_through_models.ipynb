{
 "cells": [
  {
   "cell_type": "code",
   "execution_count": 8,
   "id": "e7288c5c",
   "metadata": {},
   "outputs": [],
   "source": [
    "import pandas as pd\n",
    "import numpy as np\n",
    "import matplotlib.pyplot as plt\n",
    "import seaborn as sns\n",
    "import pickle\n",
    "from sklearn.preprocessing import StandardScaler\n",
    "import joblib \n",
    "\n",
    "loaded_model_randomForest = pickle.load(open('best_random_forest_model.sav','rb'))\n",
    "loaded_model_SVM = pickle.load(open('best_SVM.sav','rb'))"
   ]
  },
  {
   "cell_type": "code",
   "execution_count": 9,
   "id": "9818af71",
   "metadata": {},
   "outputs": [],
   "source": [
    "test_df = pd.read_pickle('cleaned_data_loan_approval_test.pkl')"
   ]
  },
  {
   "cell_type": "code",
   "execution_count": 10,
   "id": "ff3ff034",
   "metadata": {},
   "outputs": [
    {
     "data": {
      "text/plain": [
       "{0: 232, 1: 135}"
      ]
     },
     "execution_count": 10,
     "metadata": {},
     "output_type": "execute_result"
    }
   ],
   "source": [
    "forest_pred = loaded_model_randomForest.predict(test_df)\n",
    "unique, counts = np.unique(forest_pred, return_counts=True)\n",
    "results_forest = dict(zip(unique, counts))\n",
    "results_forest"
   ]
  },
  {
   "cell_type": "code",
   "execution_count": 11,
   "id": "ba7e5651",
   "metadata": {},
   "outputs": [
    {
     "name": "stdout",
     "output_type": "stream",
     "text": [
      "Using the best random forest model, this model is predicting that 37.0% of these applications would get approved.\n",
      "Using the best random forest model, this model is predicting that 63.0% of these applications would get rejected.\n"
     ]
    }
   ],
   "source": [
    "print(f'Using the best random forest model, this model is predicting that {round((results_forest[1]/len(forest_pred)),2)*100}% of these applications would get approved.')\n",
    "print(f'Using the best random forest model, this model is predicting that {round((results_forest[0]/len(forest_pred)),2)*100}% of these applications would get rejected.')"
   ]
  },
  {
   "cell_type": "code",
   "execution_count": 12,
   "id": "d0398395",
   "metadata": {},
   "outputs": [],
   "source": [
    "scaler = StandardScaler()\n",
    "scaler.fit(test_df)\n",
    "\n",
    "joblib.dump(scaler, 'scaled_test_data.pkl')\n",
    "\n",
    "\n",
    "scaler = joblib.load('scaled_test_data.pkl')\n",
    "\n",
    "scaled_features = scaler.transform(test_df)\n"
   ]
  },
  {
   "cell_type": "code",
   "execution_count": 13,
   "id": "a41df61b",
   "metadata": {},
   "outputs": [
    {
     "data": {
      "text/plain": [
       "{0: 142, 1: 225}"
      ]
     },
     "execution_count": 13,
     "metadata": {},
     "output_type": "execute_result"
    }
   ],
   "source": [
    "svm_pred = loaded_model_SVM.predict(scaled_features)\n",
    "unique, counts = np.unique(svm_pred, return_counts=True)\n",
    "results_svm = dict(zip(unique, counts))\n",
    "results_svm"
   ]
  },
  {
   "cell_type": "code",
   "execution_count": 14,
   "id": "4f832408",
   "metadata": {
    "scrolled": true
   },
   "outputs": [
    {
     "name": "stdout",
     "output_type": "stream",
     "text": [
      "Using the best random forest model, this model is predicting that 61.0% of these applications would get approved.\n",
      "Using the best random forest model, this model is predicting that 39.0% of these applications would get rejected.\n"
     ]
    }
   ],
   "source": [
    "print(f'Using the best random forest model, this model is predicting that {round((results_svm[1]/len(forest_pred)),2)*100}% of these applications would get approved.')\n",
    "print(f'Using the best random forest model, this model is predicting that {round((results_svm[0]/len(forest_pred)),2)*100}% of these applications would get rejected.')"
   ]
  },
  {
   "cell_type": "code",
   "execution_count": null,
   "id": "ee924e5b",
   "metadata": {},
   "outputs": [],
   "source": []
  }
 ],
 "metadata": {
  "kernelspec": {
   "display_name": "Python 3",
   "language": "python",
   "name": "python3"
  },
  "language_info": {
   "codemirror_mode": {
    "name": "ipython",
    "version": 3
   },
   "file_extension": ".py",
   "mimetype": "text/x-python",
   "name": "python",
   "nbconvert_exporter": "python",
   "pygments_lexer": "ipython3",
   "version": "3.8.8"
  }
 },
 "nbformat": 4,
 "nbformat_minor": 5
}
