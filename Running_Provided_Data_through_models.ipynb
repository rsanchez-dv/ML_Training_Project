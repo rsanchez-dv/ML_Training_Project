{
 "cells": [
  {
   "cell_type": "code",
   "execution_count": 40,
   "id": "61ce8886",
   "metadata": {},
   "outputs": [],
   "source": [
    "import pandas as pd\n",
    "import numpy as np\n",
    "import matplotlib.pyplot as plt\n",
    "import seaborn as sns\n",
    "import pickle\n",
    "from sklearn.preprocessing import StandardScaler\n",
    "import joblib \n",
    "\n",
    "loaded_model_randomForest = pickle.load(open('best_random_forest_model.sav','rb'))\n",
    "loaded_model_SVM = pickle.load(open('best_GridSearch_SVM.sav','rb'))"
   ]
  },
  {
   "cell_type": "code",
   "execution_count": 10,
   "id": "974ed1aa",
   "metadata": {},
   "outputs": [],
   "source": [
    "test_df = pd.read_pickle('cleaned_data_loan_approval_test.pkl')"
   ]
  },
  {
   "cell_type": "code",
   "execution_count": 33,
   "id": "21088de3",
   "metadata": {},
   "outputs": [
    {
     "data": {
      "text/plain": [
       "{0: 59, 1: 308}"
      ]
     },
     "execution_count": 33,
     "metadata": {},
     "output_type": "execute_result"
    }
   ],
   "source": [
    "forest_pred = loaded_model_randomForest.predict(test_df)\n",
    "unique, counts = np.unique(forest_pred, return_counts=True)\n",
    "results_forest = dict(zip(unique, counts))\n",
    "results_forest"
   ]
  },
  {
   "cell_type": "code",
   "execution_count": 35,
   "id": "16791fe5",
   "metadata": {},
   "outputs": [
    {
     "name": "stdout",
     "output_type": "stream",
     "text": [
      "Using the best random forest model, this model is predicting that 84.0% of these applications would get approved.\n",
      "Using the best random forest model, this model is predicting that 16.0% of these applications would get rejected.\n"
     ]
    }
   ],
   "source": [
    "print(f'Using the best random forest model, this model is predicting that {round((results_forest[1]/len(forest_pred)),2)*100}% of these applications would get approved.')\n",
    "print(f'Using the best random forest model, this model is predicting that {round((results_forest[0]/len(forest_pred)),2)*100}% of these applications would get rejected.')"
   ]
  },
  {
   "cell_type": "code",
   "execution_count": 41,
   "id": "a9a388c9",
   "metadata": {},
   "outputs": [],
   "source": [
    "scaler = StandardScaler()\n",
    "scaler.fit(test_df)\n",
    "\n",
    "joblib.dump(scaler, 'scaled_test_data.pkl')\n",
    "\n",
    "\n",
    "scaler = joblib.load('scaled_test_data.pkl')\n",
    "\n",
    "scaled_features = scaler.transform(test_df)\n"
   ]
  },
  {
   "cell_type": "code",
   "execution_count": 34,
   "id": "3ee8a98a",
   "metadata": {},
   "outputs": [
    {
     "data": {
      "text/plain": [
       "{0: 1, 1: 366}"
      ]
     },
     "execution_count": 34,
     "metadata": {},
     "output_type": "execute_result"
    }
   ],
   "source": [
    "svm_pred = loaded_model_SVM.predict(test_df)\n",
    "unique, counts = np.unique(svm_pred, return_counts=True)\n",
    "results_svm = dict(zip(unique, counts))\n",
    "results_svm"
   ]
  },
  {
   "cell_type": "code",
   "execution_count": 36,
   "id": "ad6d7217",
   "metadata": {},
   "outputs": [
    {
     "name": "stdout",
     "output_type": "stream",
     "text": [
      "Using the best random forest model, this model is predicting that 100.0% of these applications would get approved.\n",
      "Using the best random forest model, this model is predicting that 0.0% of these applications would get rejected.\n"
     ]
    }
   ],
   "source": [
    "print(f'Using the best random forest model, this model is predicting that {round((results_svm[1]/len(forest_pred)),2)*100}% of these applications would get approved.')\n",
    "print(f'Using the best random forest model, this model is predicting that {round((results_svm[0]/len(forest_pred)),2)*100}% of these applications would get rejected.')"
   ]
  },
  {
   "cell_type": "code",
   "execution_count": null,
   "id": "bdcddd9a",
   "metadata": {},
   "outputs": [],
   "source": []
  }
 ],
 "metadata": {
  "kernelspec": {
   "display_name": "Python 3",
   "language": "python",
   "name": "python3"
  },
  "language_info": {
   "codemirror_mode": {
    "name": "ipython",
    "version": 3
   },
   "file_extension": ".py",
   "mimetype": "text/x-python",
   "name": "python",
   "nbconvert_exporter": "python",
   "pygments_lexer": "ipython3",
   "version": "3.8.8"
  }
 },
 "nbformat": 4,
 "nbformat_minor": 5
}
