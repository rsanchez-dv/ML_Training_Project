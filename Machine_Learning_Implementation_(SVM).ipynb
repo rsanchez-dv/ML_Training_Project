{
 "cells": [
  {
   "cell_type": "markdown",
   "id": "8c6dd2fb",
   "metadata": {},
   "source": [
    "# Machine Learning Implementation (Support Vector Machines)"
   ]
  },
  {
   "cell_type": "markdown",
   "id": "1eb155b4",
   "metadata": {},
   "source": [
    "This document contains the actual data splitting, training, and metrics for the following machine learning models"
   ]
  },
  {
   "cell_type": "markdown",
   "id": "8c8679ee",
   "metadata": {},
   "source": [
    "## Importing our libraries"
   ]
  },
  {
   "cell_type": "code",
   "execution_count": 1,
   "id": "3d7b4a36",
   "metadata": {},
   "outputs": [],
   "source": [
    "# Importing libraries\n",
    "import pandas as pd\n",
    "import numpy as np\n",
    "import matplotlib.pyplot as plt\n",
    "import seaborn as sns\n",
    "\n",
    "from sklearn.model_selection import train_test_split\n",
    "from sklearn.metrics import classification_report, confusion_matrix, plot_confusion_matrix,roc_auc_score, roc_curve\n",
    "from sklearn.svm import SVC\n",
    "from sklearn.model_selection import GridSearchCV, RandomizedSearchCV\n",
    "\n",
    "from sklearn.preprocessing import StandardScaler\n",
    "import joblib \n",
    "\n",
    "from time import time\n",
    "from scipy.stats import randint\n",
    "import pickle"
   ]
  },
  {
   "cell_type": "markdown",
   "id": "5b009bf8",
   "metadata": {},
   "source": [
    "## Reading saved clean data"
   ]
  },
  {
   "cell_type": "code",
   "execution_count": 2,
   "id": "1d3ed8a6",
   "metadata": {},
   "outputs": [
    {
     "data": {
      "text/html": [
       "<div>\n",
       "<style scoped>\n",
       "    .dataframe tbody tr th:only-of-type {\n",
       "        vertical-align: middle;\n",
       "    }\n",
       "\n",
       "    .dataframe tbody tr th {\n",
       "        vertical-align: top;\n",
       "    }\n",
       "\n",
       "    .dataframe thead th {\n",
       "        text-align: right;\n",
       "    }\n",
       "</style>\n",
       "<table border=\"1\" class=\"dataframe\">\n",
       "  <thead>\n",
       "    <tr style=\"text-align: right;\">\n",
       "      <th></th>\n",
       "      <th>ApplicantIncome</th>\n",
       "      <th>CoapplicantIncome</th>\n",
       "      <th>LoanAmount</th>\n",
       "      <th>Loan_Amount_Term</th>\n",
       "      <th>Credit_History</th>\n",
       "      <th>Gender</th>\n",
       "      <th>Married</th>\n",
       "      <th>Education</th>\n",
       "      <th>Self_Employed</th>\n",
       "      <th>Loan_Status</th>\n",
       "      <th>Semiurban</th>\n",
       "      <th>Urban</th>\n",
       "      <th>1</th>\n",
       "      <th>2</th>\n",
       "      <th>3+</th>\n",
       "    </tr>\n",
       "  </thead>\n",
       "  <tbody>\n",
       "    <tr>\n",
       "      <th>0</th>\n",
       "      <td>5849</td>\n",
       "      <td>0.0</td>\n",
       "      <td>146.412162</td>\n",
       "      <td>360.0</td>\n",
       "      <td>1.0</td>\n",
       "      <td>1</td>\n",
       "      <td>0</td>\n",
       "      <td>0</td>\n",
       "      <td>0</td>\n",
       "      <td>1</td>\n",
       "      <td>0</td>\n",
       "      <td>1</td>\n",
       "      <td>0</td>\n",
       "      <td>0</td>\n",
       "      <td>0</td>\n",
       "    </tr>\n",
       "    <tr>\n",
       "      <th>1</th>\n",
       "      <td>4583</td>\n",
       "      <td>1508.0</td>\n",
       "      <td>128.000000</td>\n",
       "      <td>360.0</td>\n",
       "      <td>1.0</td>\n",
       "      <td>1</td>\n",
       "      <td>1</td>\n",
       "      <td>0</td>\n",
       "      <td>0</td>\n",
       "      <td>0</td>\n",
       "      <td>0</td>\n",
       "      <td>0</td>\n",
       "      <td>1</td>\n",
       "      <td>0</td>\n",
       "      <td>0</td>\n",
       "    </tr>\n",
       "    <tr>\n",
       "      <th>2</th>\n",
       "      <td>3000</td>\n",
       "      <td>0.0</td>\n",
       "      <td>66.000000</td>\n",
       "      <td>360.0</td>\n",
       "      <td>1.0</td>\n",
       "      <td>1</td>\n",
       "      <td>1</td>\n",
       "      <td>0</td>\n",
       "      <td>1</td>\n",
       "      <td>1</td>\n",
       "      <td>0</td>\n",
       "      <td>1</td>\n",
       "      <td>0</td>\n",
       "      <td>0</td>\n",
       "      <td>0</td>\n",
       "    </tr>\n",
       "    <tr>\n",
       "      <th>3</th>\n",
       "      <td>2583</td>\n",
       "      <td>2358.0</td>\n",
       "      <td>120.000000</td>\n",
       "      <td>360.0</td>\n",
       "      <td>1.0</td>\n",
       "      <td>1</td>\n",
       "      <td>1</td>\n",
       "      <td>1</td>\n",
       "      <td>0</td>\n",
       "      <td>1</td>\n",
       "      <td>0</td>\n",
       "      <td>1</td>\n",
       "      <td>0</td>\n",
       "      <td>0</td>\n",
       "      <td>0</td>\n",
       "    </tr>\n",
       "    <tr>\n",
       "      <th>4</th>\n",
       "      <td>6000</td>\n",
       "      <td>0.0</td>\n",
       "      <td>141.000000</td>\n",
       "      <td>360.0</td>\n",
       "      <td>1.0</td>\n",
       "      <td>1</td>\n",
       "      <td>0</td>\n",
       "      <td>0</td>\n",
       "      <td>0</td>\n",
       "      <td>1</td>\n",
       "      <td>0</td>\n",
       "      <td>1</td>\n",
       "      <td>0</td>\n",
       "      <td>0</td>\n",
       "      <td>0</td>\n",
       "    </tr>\n",
       "  </tbody>\n",
       "</table>\n",
       "</div>"
      ],
      "text/plain": [
       "   ApplicantIncome  CoapplicantIncome  LoanAmount  Loan_Amount_Term  \\\n",
       "0             5849                0.0  146.412162             360.0   \n",
       "1             4583             1508.0  128.000000             360.0   \n",
       "2             3000                0.0   66.000000             360.0   \n",
       "3             2583             2358.0  120.000000             360.0   \n",
       "4             6000                0.0  141.000000             360.0   \n",
       "\n",
       "   Credit_History  Gender  Married  Education  Self_Employed  Loan_Status  \\\n",
       "0             1.0       1        0          0              0            1   \n",
       "1             1.0       1        1          0              0            0   \n",
       "2             1.0       1        1          0              1            1   \n",
       "3             1.0       1        1          1              0            1   \n",
       "4             1.0       1        0          0              0            1   \n",
       "\n",
       "   Semiurban  Urban  1  2  3+  \n",
       "0          0      1  0  0   0  \n",
       "1          0      0  1  0   0  \n",
       "2          0      1  0  0   0  \n",
       "3          0      1  0  0   0  \n",
       "4          0      1  0  0   0  "
      ]
     },
     "metadata": {},
     "output_type": "display_data"
    },
    {
     "name": "stdout",
     "output_type": "stream",
     "text": [
      "(614, 15)\n"
     ]
    },
    {
     "data": {
      "text/html": [
       "<div>\n",
       "<style scoped>\n",
       "    .dataframe tbody tr th:only-of-type {\n",
       "        vertical-align: middle;\n",
       "    }\n",
       "\n",
       "    .dataframe tbody tr th {\n",
       "        vertical-align: top;\n",
       "    }\n",
       "\n",
       "    .dataframe thead th {\n",
       "        text-align: right;\n",
       "    }\n",
       "</style>\n",
       "<table border=\"1\" class=\"dataframe\">\n",
       "  <thead>\n",
       "    <tr style=\"text-align: right;\">\n",
       "      <th></th>\n",
       "      <th>ApplicantIncome</th>\n",
       "      <th>CoapplicantIncome</th>\n",
       "      <th>LoanAmount</th>\n",
       "      <th>Loan_Amount_Term</th>\n",
       "      <th>Credit_History</th>\n",
       "      <th>Gender</th>\n",
       "      <th>Married</th>\n",
       "      <th>Education</th>\n",
       "      <th>Self_Employed</th>\n",
       "      <th>Loan_Status</th>\n",
       "      <th>Semiurban</th>\n",
       "      <th>Urban</th>\n",
       "      <th>1</th>\n",
       "      <th>2</th>\n",
       "      <th>3+</th>\n",
       "    </tr>\n",
       "  </thead>\n",
       "  <tbody>\n",
       "    <tr>\n",
       "      <th>0</th>\n",
       "      <td>5849</td>\n",
       "      <td>0.0</td>\n",
       "      <td>146.412162</td>\n",
       "      <td>360.0</td>\n",
       "      <td>1.0</td>\n",
       "      <td>1</td>\n",
       "      <td>0</td>\n",
       "      <td>0</td>\n",
       "      <td>0</td>\n",
       "      <td>1</td>\n",
       "      <td>0</td>\n",
       "      <td>1</td>\n",
       "      <td>0</td>\n",
       "      <td>0</td>\n",
       "      <td>0</td>\n",
       "    </tr>\n",
       "    <tr>\n",
       "      <th>1</th>\n",
       "      <td>4583</td>\n",
       "      <td>1508.0</td>\n",
       "      <td>128.000000</td>\n",
       "      <td>360.0</td>\n",
       "      <td>1.0</td>\n",
       "      <td>1</td>\n",
       "      <td>1</td>\n",
       "      <td>0</td>\n",
       "      <td>0</td>\n",
       "      <td>0</td>\n",
       "      <td>0</td>\n",
       "      <td>0</td>\n",
       "      <td>1</td>\n",
       "      <td>0</td>\n",
       "      <td>0</td>\n",
       "    </tr>\n",
       "    <tr>\n",
       "      <th>2</th>\n",
       "      <td>3000</td>\n",
       "      <td>0.0</td>\n",
       "      <td>66.000000</td>\n",
       "      <td>360.0</td>\n",
       "      <td>1.0</td>\n",
       "      <td>1</td>\n",
       "      <td>1</td>\n",
       "      <td>0</td>\n",
       "      <td>1</td>\n",
       "      <td>1</td>\n",
       "      <td>0</td>\n",
       "      <td>1</td>\n",
       "      <td>0</td>\n",
       "      <td>0</td>\n",
       "      <td>0</td>\n",
       "    </tr>\n",
       "    <tr>\n",
       "      <th>3</th>\n",
       "      <td>2583</td>\n",
       "      <td>2358.0</td>\n",
       "      <td>120.000000</td>\n",
       "      <td>360.0</td>\n",
       "      <td>1.0</td>\n",
       "      <td>1</td>\n",
       "      <td>1</td>\n",
       "      <td>1</td>\n",
       "      <td>0</td>\n",
       "      <td>1</td>\n",
       "      <td>0</td>\n",
       "      <td>1</td>\n",
       "      <td>0</td>\n",
       "      <td>0</td>\n",
       "      <td>0</td>\n",
       "    </tr>\n",
       "    <tr>\n",
       "      <th>4</th>\n",
       "      <td>6000</td>\n",
       "      <td>0.0</td>\n",
       "      <td>141.000000</td>\n",
       "      <td>360.0</td>\n",
       "      <td>1.0</td>\n",
       "      <td>1</td>\n",
       "      <td>0</td>\n",
       "      <td>0</td>\n",
       "      <td>0</td>\n",
       "      <td>1</td>\n",
       "      <td>0</td>\n",
       "      <td>1</td>\n",
       "      <td>0</td>\n",
       "      <td>0</td>\n",
       "      <td>0</td>\n",
       "    </tr>\n",
       "  </tbody>\n",
       "</table>\n",
       "</div>"
      ],
      "text/plain": [
       "   ApplicantIncome  CoapplicantIncome  LoanAmount  Loan_Amount_Term  \\\n",
       "0             5849                0.0  146.412162             360.0   \n",
       "1             4583             1508.0  128.000000             360.0   \n",
       "2             3000                0.0   66.000000             360.0   \n",
       "3             2583             2358.0  120.000000             360.0   \n",
       "4             6000                0.0  141.000000             360.0   \n",
       "\n",
       "   Credit_History  Gender  Married  Education  Self_Employed  Loan_Status  \\\n",
       "0             1.0       1        0          0              0            1   \n",
       "1             1.0       1        1          0              0            0   \n",
       "2             1.0       1        1          0              1            1   \n",
       "3             1.0       1        1          1              0            1   \n",
       "4             1.0       1        0          0              0            1   \n",
       "\n",
       "   Semiurban  Urban  1  2  3+  \n",
       "0          0      1  0  0   0  \n",
       "1          0      0  1  0   0  \n",
       "2          0      1  0  0   0  \n",
       "3          0      1  0  0   0  \n",
       "4          0      1  0  0   0  "
      ]
     },
     "metadata": {},
     "output_type": "display_data"
    },
    {
     "name": "stdout",
     "output_type": "stream",
     "text": [
      "(445, 15)\n"
     ]
    }
   ],
   "source": [
    "base_df = pd.read_pickle('cleaned_data_loan_approval.pkl')\n",
    "base_no_outliers_df = pd.read_pickle('cleaned_data_loan_approval_without_outliers.pkl')\n",
    "\n",
    "display(base_df.head())\n",
    "print(base_df.shape)\n",
    "\n",
    "display(base_no_outliers_df.head())\n",
    "print(base_no_outliers_df.shape)"
   ]
  },
  {
   "cell_type": "markdown",
   "id": "e86b4c33",
   "metadata": {},
   "source": [
    "## Splitting Data"
   ]
  },
  {
   "cell_type": "code",
   "execution_count": 3,
   "id": "5f05f741",
   "metadata": {},
   "outputs": [
    {
     "name": "stdout",
     "output_type": "stream",
     "text": [
      "Shape: X(614, 14), y(614,)\n",
      "Shape: X_1(445, 14), y_1(445,)\n"
     ]
    }
   ],
   "source": [
    "# Base Model\n",
    "X = base_df[['LoanAmount','ApplicantIncome','CoapplicantIncome','Loan_Amount_Term','Credit_History','Gender', 'Married', 'Education', 'Self_Employed','Semiurban','Urban','1','2','3+' ]]\n",
    "y = base_df['Loan_Status']\n",
    "\n",
    "# With outliers removed\n",
    "X_1 = base_no_outliers_df[['LoanAmount','ApplicantIncome','CoapplicantIncome','Loan_Amount_Term','Credit_History','Gender', 'Married', 'Education', 'Self_Employed','Semiurban','Urban','1','2','3+' ]]\n",
    "y_1 = base_no_outliers_df['Loan_Status']\n",
    "\n",
    "print(f'Shape: X{X.shape}, y{y.shape}')\n",
    "print(f'Shape: X_1{X_1.shape}, y_1{y_1.shape}')"
   ]
  },
  {
   "cell_type": "markdown",
   "id": "78a3ea62",
   "metadata": {},
   "source": [
    "📝 These two are the same dataset but with different variations such as the (*)_1 not having outliers."
   ]
  },
  {
   "cell_type": "markdown",
   "id": "025c0fb2",
   "metadata": {},
   "source": [
    "## Scaling Features"
   ]
  },
  {
   "cell_type": "code",
   "execution_count": 4,
   "id": "b6e5f628",
   "metadata": {},
   "outputs": [],
   "source": [
    "scaler = StandardScaler()\n",
    "scaler_1 = StandardScaler()\n",
    "\n",
    "scaler.fit(X)\n",
    "scaler_1.fit(X_1)\n",
    "\n",
    "joblib.dump(scaler, 'scaled_base_data_loan_app.pkl')\n",
    "joblib.dump(scaler_1, 'scaled_base_data_without_outliers_loan_app.pkl')\n",
    "\n",
    "scaler = joblib.load('scaled_base_data_loan_app.pkl')\n",
    "scaler_1 = joblib.load('scaled_base_data_without_outliers_loan_app.pkl') \n",
    "\n",
    "scaled_features = scaler.transform(X)\n",
    "scaled_features_1 = scaler_1.transform(X_1)"
   ]
  },
  {
   "cell_type": "markdown",
   "id": "888c9ce7",
   "metadata": {},
   "source": [
    "## Training SVMs"
   ]
  },
  {
   "cell_type": "code",
   "execution_count": 5,
   "id": "f38f90ea",
   "metadata": {},
   "outputs": [
    {
     "name": "stdout",
     "output_type": "stream",
     "text": [
      "It took 0.03 seconds to train this model.\n",
      "              precision    recall  f1-score   support\n",
      "\n",
      "           0       0.89      0.40      0.55        63\n",
      "           1       0.76      0.98      0.85       122\n",
      "\n",
      "    accuracy                           0.78       185\n",
      "   macro avg       0.83      0.69      0.70       185\n",
      "weighted avg       0.80      0.78      0.75       185\n",
      "\n"
     ]
    },
    {
     "data": {
      "text/html": [
       "<style  type=\"text/css\" >\n",
       "#T_a9f5d_row0_col0,#T_a9f5d_row1_col1{\n",
       "            background-color:  #08306b;\n",
       "            color:  #f1f1f1;\n",
       "        }#T_a9f5d_row0_col1,#T_a9f5d_row1_col0{\n",
       "            background-color:  #f7fbff;\n",
       "            color:  #000000;\n",
       "        }</style><table id=\"T_a9f5d_\" ><thead>    <tr>        <th class=\"blank level0\" ></th>        <th class=\"col_heading level0 col0\" >Predicted False</th>        <th class=\"col_heading level0 col1\" >Predicted True</th>    </tr></thead><tbody>\n",
       "                <tr>\n",
       "                        <th id=\"T_a9f5d_level0_row0\" class=\"row_heading level0 row0\" >Actual False</th>\n",
       "                        <td id=\"T_a9f5d_row0_col0\" class=\"data row0 col0\" >25</td>\n",
       "                        <td id=\"T_a9f5d_row0_col1\" class=\"data row0 col1\" >38</td>\n",
       "            </tr>\n",
       "            <tr>\n",
       "                        <th id=\"T_a9f5d_level0_row1\" class=\"row_heading level0 row1\" >Actual True</th>\n",
       "                        <td id=\"T_a9f5d_row1_col0\" class=\"data row1 col0\" >3</td>\n",
       "                        <td id=\"T_a9f5d_row1_col1\" class=\"data row1 col1\" >119</td>\n",
       "            </tr>\n",
       "    </tbody></table>"
      ],
      "text/plain": [
       "<pandas.io.formats.style.Styler at 0x28c29421d00>"
      ]
     },
     "execution_count": 5,
     "metadata": {},
     "output_type": "execute_result"
    }
   ],
   "source": [
    "X_train, X_test, y_train, y_test = train_test_split(scaled_features, y, test_size=0.3, random_state=100)\n",
    "\n",
    "svm_model = SVC(probability=True,kernel='linear')\n",
    "\n",
    "start = time()\n",
    "svm_model.fit(X_train,y_train)\n",
    "svm_pred = svm_model.predict(X_test)\n",
    "\n",
    "print(f'It took {round((time()-start),2)} seconds to train this model.')\n",
    "\n",
    "print(classification_report(y_test,svm_pred))\n",
    "\n",
    "df_matrix=pd.DataFrame(confusion_matrix(y_test, svm_pred), \n",
    "             columns=[\"Predicted False\", \"Predicted True\"], \n",
    "             index=[\"Actual False\", \"Actual True\"])\n",
    "df_matrix.style.background_gradient(cmap='Blues')"
   ]
  },
  {
   "cell_type": "code",
   "execution_count": 6,
   "id": "73c69422",
   "metadata": {},
   "outputs": [
    {
     "name": "stdout",
     "output_type": "stream",
     "text": [
      "It took 0.02 seconds to train this model.\n",
      "              precision    recall  f1-score   support\n",
      "\n",
      "           0       0.79      0.31      0.45        35\n",
      "           1       0.80      0.97      0.88        99\n",
      "\n",
      "    accuracy                           0.80       134\n",
      "   macro avg       0.79      0.64      0.66       134\n",
      "weighted avg       0.80      0.80      0.76       134\n",
      "\n"
     ]
    },
    {
     "data": {
      "text/html": [
       "<style  type=\"text/css\" >\n",
       "#T_f4b70_row0_col0,#T_f4b70_row1_col1{\n",
       "            background-color:  #08306b;\n",
       "            color:  #f1f1f1;\n",
       "        }#T_f4b70_row0_col1,#T_f4b70_row1_col0{\n",
       "            background-color:  #f7fbff;\n",
       "            color:  #000000;\n",
       "        }</style><table id=\"T_f4b70_\" ><thead>    <tr>        <th class=\"blank level0\" ></th>        <th class=\"col_heading level0 col0\" >Predicted False</th>        <th class=\"col_heading level0 col1\" >Predicted True</th>    </tr></thead><tbody>\n",
       "                <tr>\n",
       "                        <th id=\"T_f4b70_level0_row0\" class=\"row_heading level0 row0\" >Actual False</th>\n",
       "                        <td id=\"T_f4b70_row0_col0\" class=\"data row0 col0\" >11</td>\n",
       "                        <td id=\"T_f4b70_row0_col1\" class=\"data row0 col1\" >24</td>\n",
       "            </tr>\n",
       "            <tr>\n",
       "                        <th id=\"T_f4b70_level0_row1\" class=\"row_heading level0 row1\" >Actual True</th>\n",
       "                        <td id=\"T_f4b70_row1_col0\" class=\"data row1 col0\" >3</td>\n",
       "                        <td id=\"T_f4b70_row1_col1\" class=\"data row1 col1\" >96</td>\n",
       "            </tr>\n",
       "    </tbody></table>"
      ],
      "text/plain": [
       "<pandas.io.formats.style.Styler at 0x28c2eb8ceb0>"
      ]
     },
     "execution_count": 6,
     "metadata": {},
     "output_type": "execute_result"
    }
   ],
   "source": [
    "X_train_1, X_test_1, y_train_1, y_test_1 = train_test_split(scaled_features_1, y_1, test_size=0.3, random_state=100)\n",
    "\n",
    "svm_model_1 = SVC(probability=True, kernel='linear')\n",
    "\n",
    "start = time()\n",
    "svm_model_1.fit(X_train_1,y_train_1)\n",
    "svm_pred_1 = svm_model_1.predict(X_test_1)\n",
    "\n",
    "print(f'It took {round((time()-start),2)} seconds to train this model.')\n",
    "\n",
    "print(classification_report(y_test_1,svm_pred_1))\n",
    "\n",
    "df_matrix=pd.DataFrame(confusion_matrix(y_test_1, svm_pred_1), \n",
    "             columns=[\"Predicted False\", \"Predicted True\"], \n",
    "             index=[\"Actual False\", \"Actual True\"])\n",
    "df_matrix.style.background_gradient(cmap='Blues')"
   ]
  },
  {
   "cell_type": "markdown",
   "id": "522336ec",
   "metadata": {},
   "source": [
    "📝**Author's Notes:**\n",
    "* ✔️(Update) Scaling the data dramatically reduces the training time.\n",
    "* ⚠️The default kernel is giving me issues by throwing an \"Precision and F-Score are ill-defined and being set to 0.0 in labels with no predicated samples\". Changing the kernel to linear resolved that issue. There is a delay when fitting the training data (~50-70 seconds) not sure if its caused by the kernel. Need to look into this more."
   ]
  },
  {
   "cell_type": "markdown",
   "id": "77bbd1c5",
   "metadata": {},
   "source": [
    "## Utilizing Grid Search and Randomize Search"
   ]
  },
  {
   "cell_type": "markdown",
   "id": "2cb1e6a1",
   "metadata": {},
   "source": [
    "❗ These temp variables are used for both Randomized and Grid Search. These variables can be modified to run on any variation of the dataset to see changes. These values are scaled!"
   ]
  },
  {
   "cell_type": "code",
   "execution_count": 7,
   "id": "3ab1a52d",
   "metadata": {},
   "outputs": [],
   "source": [
    "data_set = 1\n",
    "\n",
    "if data_set == 0:\n",
    "    X_train_temp = X_train\n",
    "    y_train_temp = y_train\n",
    "    X_test_temp = X_test\n",
    "    y_test_temp = y_test\n",
    "elif data_set == 1:\n",
    "    X_train_temp = X_train_1\n",
    "    y_train_temp = y_train_1\n",
    "    X_test_temp = X_test_1\n",
    "    y_test_temp = y_test_1"
   ]
  },
  {
   "cell_type": "markdown",
   "id": "1fc117f2",
   "metadata": {},
   "source": [
    "### Grid Search"
   ]
  },
  {
   "cell_type": "code",
   "execution_count": 8,
   "id": "b3e92ab4",
   "metadata": {},
   "outputs": [
    {
     "name": "stdout",
     "output_type": "stream",
     "text": [
      "Fitting 5 folds for each of 40 candidates, totalling 200 fits\n",
      "It took 10.39 seconds to train this model.\n",
      "The best parameters are {'C': 0.1, 'gamma': 1, 'kernel': 'linear'} with a score of 0.836047107014849\n",
      "Best estimators:\n",
      " SVC(C=0.1, gamma=1, kernel='linear', probability=True)\n"
     ]
    }
   ],
   "source": [
    "param_grid = {'C': [0.1, 1, 10, 100],\n",
    "              'gamma': [1,0.1,0.01,0.001, 0.0001],\n",
    "              'kernel': ['rbf', 'linear']} \n",
    "\n",
    "grid = GridSearchCV(SVC(probability=True), param_grid, verbose=1)\n",
    "\n",
    "start = time()\n",
    "grid.fit(X_train_temp, y_train_temp)\n",
    "print(f'It took {round((time()-start),2)} seconds to train this model.')\n",
    "print(f'The best parameters are {grid.best_params_} with a score of {grid.best_score_}')\n",
    "print(f'Best estimators:\\n {grid.best_estimator_}')"
   ]
  },
  {
   "cell_type": "code",
   "execution_count": 9,
   "id": "8fc921f6",
   "metadata": {},
   "outputs": [
    {
     "name": "stdout",
     "output_type": "stream",
     "text": [
      "              precision    recall  f1-score   support\n",
      "\n",
      "           0       0.79      0.31      0.45        35\n",
      "           1       0.80      0.97      0.88        99\n",
      "\n",
      "    accuracy                           0.80       134\n",
      "   macro avg       0.79      0.64      0.66       134\n",
      "weighted avg       0.80      0.80      0.76       134\n",
      "\n"
     ]
    },
    {
     "data": {
      "text/html": [
       "<style  type=\"text/css\" >\n",
       "#T_e945e_row0_col0,#T_e945e_row1_col1{\n",
       "            background-color:  #08306b;\n",
       "            color:  #f1f1f1;\n",
       "        }#T_e945e_row0_col1,#T_e945e_row1_col0{\n",
       "            background-color:  #f7fbff;\n",
       "            color:  #000000;\n",
       "        }</style><table id=\"T_e945e_\" ><thead>    <tr>        <th class=\"blank level0\" ></th>        <th class=\"col_heading level0 col0\" >Predicted False</th>        <th class=\"col_heading level0 col1\" >Predicted True</th>    </tr></thead><tbody>\n",
       "                <tr>\n",
       "                        <th id=\"T_e945e_level0_row0\" class=\"row_heading level0 row0\" >Actual False</th>\n",
       "                        <td id=\"T_e945e_row0_col0\" class=\"data row0 col0\" >11</td>\n",
       "                        <td id=\"T_e945e_row0_col1\" class=\"data row0 col1\" >24</td>\n",
       "            </tr>\n",
       "            <tr>\n",
       "                        <th id=\"T_e945e_level0_row1\" class=\"row_heading level0 row1\" >Actual True</th>\n",
       "                        <td id=\"T_e945e_row1_col0\" class=\"data row1 col0\" >3</td>\n",
       "                        <td id=\"T_e945e_row1_col1\" class=\"data row1 col1\" >96</td>\n",
       "            </tr>\n",
       "    </tbody></table>"
      ],
      "text/plain": [
       "<pandas.io.formats.style.Styler at 0x28c2e9e8fa0>"
      ]
     },
     "execution_count": 9,
     "metadata": {},
     "output_type": "execute_result"
    }
   ],
   "source": [
    "grid_pred = grid.predict(X_test_temp)\n",
    "print(classification_report(y_test_temp,grid_pred))\n",
    "df_matrix=pd.DataFrame(confusion_matrix(y_test_temp, grid_pred), \n",
    "             columns=[\"Predicted False\", \"Predicted True\"], \n",
    "             index=[\"Actual False\", \"Actual True\"])\n",
    "df_matrix.style.background_gradient(cmap='Blues')"
   ]
  },
  {
   "cell_type": "markdown",
   "id": "f1b0531b",
   "metadata": {},
   "source": [
    "### Randomize Search"
   ]
  },
  {
   "cell_type": "code",
   "execution_count": 10,
   "id": "4835ea4c",
   "metadata": {},
   "outputs": [
    {
     "name": "stdout",
     "output_type": "stream",
     "text": [
      "Fitting 5 folds for each of 10 candidates, totalling 50 fits\n",
      "It took 3.83 seconds to train this model.\n",
      "The best parameters are {'C': 0.1, 'gamma': 1, 'kernel': 'linear'} with a score of 0.836047107014849\n",
      "Best estimators:\n",
      " SVC(C=0.1, gamma=1, kernel='linear', probability=True)\n"
     ]
    }
   ],
   "source": [
    "param_random = {'C': [0.1, 1, 10, 100],\n",
    "              'gamma': [1,0.1,0.01,0.001, 0.0001],\n",
    "              'kernel': ['rbf', 'linear']} \n",
    "\n",
    "random_search = RandomizedSearchCV(SVC(probability=True), param_random, verbose=1)\n",
    "\n",
    "start = time()\n",
    "random_search.fit(X_train_temp, y_train_temp)\n",
    "\n",
    "print(f'It took {round((time()-start),2)} seconds to train this model.')\n",
    "print(f'The best parameters are {grid.best_params_} with a score of {grid.best_score_}')\n",
    "print(f'Best estimators:\\n {grid.best_estimator_}')"
   ]
  },
  {
   "cell_type": "code",
   "execution_count": 11,
   "id": "348d0357",
   "metadata": {},
   "outputs": [
    {
     "name": "stdout",
     "output_type": "stream",
     "text": [
      "              precision    recall  f1-score   support\n",
      "\n",
      "           0       0.79      0.31      0.45        35\n",
      "           1       0.80      0.97      0.88        99\n",
      "\n",
      "    accuracy                           0.80       134\n",
      "   macro avg       0.79      0.64      0.66       134\n",
      "weighted avg       0.80      0.80      0.76       134\n",
      "\n"
     ]
    },
    {
     "data": {
      "text/html": [
       "<style  type=\"text/css\" >\n",
       "#T_f498c_row0_col0,#T_f498c_row1_col1{\n",
       "            background-color:  #08306b;\n",
       "            color:  #f1f1f1;\n",
       "        }#T_f498c_row0_col1,#T_f498c_row1_col0{\n",
       "            background-color:  #f7fbff;\n",
       "            color:  #000000;\n",
       "        }</style><table id=\"T_f498c_\" ><thead>    <tr>        <th class=\"blank level0\" ></th>        <th class=\"col_heading level0 col0\" >Predicted False</th>        <th class=\"col_heading level0 col1\" >Predicted True</th>    </tr></thead><tbody>\n",
       "                <tr>\n",
       "                        <th id=\"T_f498c_level0_row0\" class=\"row_heading level0 row0\" >Actual False</th>\n",
       "                        <td id=\"T_f498c_row0_col0\" class=\"data row0 col0\" >11</td>\n",
       "                        <td id=\"T_f498c_row0_col1\" class=\"data row0 col1\" >24</td>\n",
       "            </tr>\n",
       "            <tr>\n",
       "                        <th id=\"T_f498c_level0_row1\" class=\"row_heading level0 row1\" >Actual True</th>\n",
       "                        <td id=\"T_f498c_row1_col0\" class=\"data row1 col0\" >3</td>\n",
       "                        <td id=\"T_f498c_row1_col1\" class=\"data row1 col1\" >96</td>\n",
       "            </tr>\n",
       "    </tbody></table>"
      ],
      "text/plain": [
       "<pandas.io.formats.style.Styler at 0x28c2ea5ca90>"
      ]
     },
     "execution_count": 11,
     "metadata": {},
     "output_type": "execute_result"
    }
   ],
   "source": [
    "random_pred = random_search.predict(X_test_temp)\n",
    "print(classification_report(y_test_temp,random_pred))\n",
    "df_matrix=pd.DataFrame(confusion_matrix(y_test_temp, random_pred), \n",
    "             columns=[\"Predicted False\", \"Predicted True\"], \n",
    "             index=[\"Actual False\", \"Actual True\"])\n",
    "df_matrix.style.background_gradient(cmap='Blues')"
   ]
  },
  {
   "cell_type": "markdown",
   "id": "d0610464",
   "metadata": {},
   "source": [
    "## Generating ROC Curve"
   ]
  },
  {
   "cell_type": "code",
   "execution_count": 12,
   "id": "bedc6a54",
   "metadata": {},
   "outputs": [
    {
     "name": "stdout",
     "output_type": "stream",
     "text": [
      "Area Under Random Forests ROC Curve: 0.715\n",
      "Area Under Random Search Random Forests ROC Curve: 0.703\n",
      "Area Under Grid Search Random Forests ROC Curve: 0.719\n"
     ]
    }
   ],
   "source": [
    "# Predicting probabilities for each model\n",
    "# (!) This is using the model trained with the data without outliers.\n",
    "base_prob = svm_model_1.predict_proba(X_test_temp)\n",
    "random_search_prob = random_search.predict_proba(X_test_temp)\n",
    "grid_search_prob = grid.predict_proba(X_test_temp)\n",
    "\n",
    "y_test_temp_01 = y_test_temp.astype('category').cat.codes\n",
    "\n",
    "# Generate ROC areas\n",
    "ROC_area = roc_auc_score(y_test_temp_01, base_prob[:,1]) \n",
    "ROC_area_random_search = roc_auc_score(y_test_temp_01, random_search_prob[:,1]) \n",
    "ROC_area_grid_search = roc_auc_score(y_test_temp_01, grid_search_prob[:,1]) \n",
    "\n",
    "# Printing results\n",
    "print('Area Under Random Forests ROC Curve: %.3f' % ROC_area)\n",
    "print('Area Under Random Search Random Forests ROC Curve: %.3f' % ROC_area_random_search)\n",
    "print('Area Under Grid Search Random Forests ROC Curve: %.3f' % ROC_area_grid_search)"
   ]
  },
  {
   "cell_type": "code",
   "execution_count": 13,
   "id": "c89413a7",
   "metadata": {},
   "outputs": [],
   "source": [
    "def plot_rocs(y_test, prob, AUC_ROC, ax, title = 'title'):\n",
    "    fpr, tpr, thresholds = roc_curve(y_test, prob[:,1])\n",
    "    \n",
    "    ax.plot([0, 1], [0, 1], linestyle='--', label = 'Random guess' )\n",
    "    ax.plot(fpr, tpr, marker='.', label = 'ROC - Area Under The Curve: %.3f' % AUC_ROC)\n",
    "    \n",
    "    ax.set_xlim([0, 1])\n",
    "    ax.set_ylim([0, 1])\n",
    "\n",
    "    ax.set_title(title)\n",
    "    ax.set_ylabel('True Positive Rate')\n",
    "    ax.set_xlabel('False Positive Rate')\n",
    "    \n",
    "    ax.legend();"
   ]
  },
  {
   "cell_type": "code",
   "execution_count": 15,
   "id": "34aa393b",
   "metadata": {},
   "outputs": [
    {
     "data": {
      "image/png": "[encoded data removed]",
      "text/plain": [
       "<Figure size 1296x360 with 3 Axes>"
      ]
     },
     "metadata": {
      "needs_background": "light"
     },
     "output_type": "display_data"
    }
   ],
   "source": [
    "fig, ax = plt.subplots(nrows = 1, ncols = 3, figsize = (18, 5))\n",
    "\n",
    "plot_rocs(y_test_temp_01, base_prob, ROC_area, \n",
    "          ax[0], 'ROC - Random Forests (Base model without outliers)')\n",
    "\n",
    "plot_rocs(y_test_temp_01, random_search_prob, ROC_area_random_search,\n",
    "          ax[1], 'ROC - Random Forests (RandomSearchCV)')\n",
    "\n",
    "plot_rocs(y_test_temp_01, grid_search_prob, ROC_area_grid_search, \n",
    "          ax[2], 'ROC - Random Forests (GridSearchCV)')"
   ]
  },
  {
   "cell_type": "markdown",
   "id": "79e97bba",
   "metadata": {},
   "source": [
    "#### Comparing with outliers\n",
    "![ROC chart with outlier data](./base_ROC_SVM.png)"
   ]
  },
  {
   "cell_type": "markdown",
   "id": "f4607a57",
   "metadata": {},
   "source": [
    "📝**Author's Notes:**\n",
    "* It seems to me that Grid Search with the data without outliers performed the best with a 0.72 score."
   ]
  },
  {
   "cell_type": "markdown",
   "id": "ceb3a06d",
   "metadata": {},
   "source": [
    "## Saving Best Model"
   ]
  },
  {
   "cell_type": "code",
   "execution_count": 16,
   "id": "f0cd8d1f",
   "metadata": {},
   "outputs": [],
   "source": [
    "pickle.dump(grid,open('best_GridSearch_SVM.sav','wb'))"
   ]
  },
  {
   "cell_type": "markdown",
   "id": "8f5f3c5e",
   "metadata": {},
   "source": [
    "### Double checking if the model was saved"
   ]
  },
  {
   "cell_type": "code",
   "execution_count": 17,
   "id": "065e2771",
   "metadata": {},
   "outputs": [
    {
     "name": "stdout",
     "output_type": "stream",
     "text": [
      "Saved\n",
      "[[11 24]\n",
      " [ 3 96]]\n",
      "Original\n",
      "[[11 24]\n",
      " [ 3 96]]\n"
     ]
    }
   ],
   "source": [
    "loaded_model = pickle.load(open('best_GridSearch_SVM.sav','rb'))\n",
    "print('Saved')\n",
    "print(confusion_matrix(y_test_temp, loaded_model.predict(X_test_temp)))\n",
    "print('Original')\n",
    "print(confusion_matrix(y_test_temp, grid.predict(X_test_temp)))"
   ]
  },
  {
   "cell_type": "code",
   "execution_count": null,
   "id": "743cd178",
   "metadata": {},
   "outputs": [],
   "source": []
  }
 ],
 "metadata": {
  "kernelspec": {
   "display_name": "Python 3",
   "language": "python",
   "name": "python3"
  },
  "language_info": {
   "codemirror_mode": {
    "name": "ipython",
    "version": 3
   },
   "file_extension": ".py",
   "mimetype": "text/x-python",
   "name": "python",
   "nbconvert_exporter": "python",
   "pygments_lexer": "ipython3",
   "version": "3.8.8"
  }
 },
 "nbformat": 4,
 "nbformat_minor": 5
}
