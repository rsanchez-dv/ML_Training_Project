{
 "cells": [
  {
   "cell_type": "markdown",
   "id": "7c5d62d7",
   "metadata": {},
   "source": [
    "# Machine Learning Implementation (Random Forests)"
   ]
  },
  {
   "cell_type": "markdown",
   "id": "b5060e73",
   "metadata": {},
   "source": [
    "This document contains the actual data splitting, training, and metrics for the following machine learning models"
   ]
  },
  {
   "cell_type": "markdown",
   "id": "c7e5978c",
   "metadata": {},
   "source": [
    "## Importing our libraries"
   ]
  },
  {
   "cell_type": "code",
   "execution_count": 25,
   "id": "9ab0aa46",
   "metadata": {},
   "outputs": [],
   "source": [
    "# Importing libraries\n",
    "import pandas as pd\n",
    "import numpy as np\n",
    "import matplotlib.pyplot as plt\n",
    "import seaborn as sns\n",
    "\n",
    "from sklearn.model_selection import train_test_split\n",
    "from sklearn.ensemble import RandomForestClassifier\n",
    "from sklearn.metrics import classification_report, confusion_matrix, plot_confusion_matrix,roc_auc_score, roc_curve\n",
    "from sklearn.svm import SVC\n",
    "\n",
    "from time import time\n",
    "from scipy.stats import randint\n",
    "from sklearn.model_selection import GridSearchCV, RandomizedSearchCV\n",
    "\n",
    "import pickle"
   ]
  },
  {
   "cell_type": "markdown",
   "id": "3b1ed302",
   "metadata": {},
   "source": [
    "## Reading saved clean data"
   ]
  },
  {
   "cell_type": "code",
   "execution_count": 26,
   "id": "8c12dc59",
   "metadata": {},
   "outputs": [
    {
     "data": {
      "text/html": [
       "<div>\n",
       "<style scoped>\n",
       "    .dataframe tbody tr th:only-of-type {\n",
       "        vertical-align: middle;\n",
       "    }\n",
       "\n",
       "    .dataframe tbody tr th {\n",
       "        vertical-align: top;\n",
       "    }\n",
       "\n",
       "    .dataframe thead th {\n",
       "        text-align: right;\n",
       "    }\n",
       "</style>\n",
       "<table border=\"1\" class=\"dataframe\">\n",
       "  <thead>\n",
       "    <tr style=\"text-align: right;\">\n",
       "      <th></th>\n",
       "      <th>ApplicantIncome</th>\n",
       "      <th>CoapplicantIncome</th>\n",
       "      <th>LoanAmount</th>\n",
       "      <th>Loan_Amount_Term</th>\n",
       "      <th>Credit_History</th>\n",
       "      <th>Gender</th>\n",
       "      <th>Married</th>\n",
       "      <th>Education</th>\n",
       "      <th>Self_Employed</th>\n",
       "      <th>Loan_Status</th>\n",
       "      <th>Semiurban</th>\n",
       "      <th>Urban</th>\n",
       "      <th>1</th>\n",
       "      <th>2</th>\n",
       "      <th>3+</th>\n",
       "    </tr>\n",
       "  </thead>\n",
       "  <tbody>\n",
       "    <tr>\n",
       "      <th>0</th>\n",
       "      <td>5849</td>\n",
       "      <td>0.0</td>\n",
       "      <td>146.412162</td>\n",
       "      <td>360.0</td>\n",
       "      <td>1.0</td>\n",
       "      <td>1</td>\n",
       "      <td>0</td>\n",
       "      <td>0</td>\n",
       "      <td>0</td>\n",
       "      <td>1</td>\n",
       "      <td>0</td>\n",
       "      <td>1</td>\n",
       "      <td>0</td>\n",
       "      <td>0</td>\n",
       "      <td>0</td>\n",
       "    </tr>\n",
       "    <tr>\n",
       "      <th>1</th>\n",
       "      <td>4583</td>\n",
       "      <td>1508.0</td>\n",
       "      <td>128.000000</td>\n",
       "      <td>360.0</td>\n",
       "      <td>1.0</td>\n",
       "      <td>1</td>\n",
       "      <td>1</td>\n",
       "      <td>0</td>\n",
       "      <td>0</td>\n",
       "      <td>0</td>\n",
       "      <td>0</td>\n",
       "      <td>0</td>\n",
       "      <td>1</td>\n",
       "      <td>0</td>\n",
       "      <td>0</td>\n",
       "    </tr>\n",
       "    <tr>\n",
       "      <th>2</th>\n",
       "      <td>3000</td>\n",
       "      <td>0.0</td>\n",
       "      <td>66.000000</td>\n",
       "      <td>360.0</td>\n",
       "      <td>1.0</td>\n",
       "      <td>1</td>\n",
       "      <td>1</td>\n",
       "      <td>0</td>\n",
       "      <td>1</td>\n",
       "      <td>1</td>\n",
       "      <td>0</td>\n",
       "      <td>1</td>\n",
       "      <td>0</td>\n",
       "      <td>0</td>\n",
       "      <td>0</td>\n",
       "    </tr>\n",
       "    <tr>\n",
       "      <th>3</th>\n",
       "      <td>2583</td>\n",
       "      <td>2358.0</td>\n",
       "      <td>120.000000</td>\n",
       "      <td>360.0</td>\n",
       "      <td>1.0</td>\n",
       "      <td>1</td>\n",
       "      <td>1</td>\n",
       "      <td>1</td>\n",
       "      <td>0</td>\n",
       "      <td>1</td>\n",
       "      <td>0</td>\n",
       "      <td>1</td>\n",
       "      <td>0</td>\n",
       "      <td>0</td>\n",
       "      <td>0</td>\n",
       "    </tr>\n",
       "    <tr>\n",
       "      <th>4</th>\n",
       "      <td>6000</td>\n",
       "      <td>0.0</td>\n",
       "      <td>141.000000</td>\n",
       "      <td>360.0</td>\n",
       "      <td>1.0</td>\n",
       "      <td>1</td>\n",
       "      <td>0</td>\n",
       "      <td>0</td>\n",
       "      <td>0</td>\n",
       "      <td>1</td>\n",
       "      <td>0</td>\n",
       "      <td>1</td>\n",
       "      <td>0</td>\n",
       "      <td>0</td>\n",
       "      <td>0</td>\n",
       "    </tr>\n",
       "  </tbody>\n",
       "</table>\n",
       "</div>"
      ],
      "text/plain": [
       "   ApplicantIncome  CoapplicantIncome  LoanAmount  Loan_Amount_Term  \\\n",
       "0             5849                0.0  146.412162             360.0   \n",
       "1             4583             1508.0  128.000000             360.0   \n",
       "2             3000                0.0   66.000000             360.0   \n",
       "3             2583             2358.0  120.000000             360.0   \n",
       "4             6000                0.0  141.000000             360.0   \n",
       "\n",
       "   Credit_History  Gender  Married  Education  Self_Employed  Loan_Status  \\\n",
       "0             1.0       1        0          0              0            1   \n",
       "1             1.0       1        1          0              0            0   \n",
       "2             1.0       1        1          0              1            1   \n",
       "3             1.0       1        1          1              0            1   \n",
       "4             1.0       1        0          0              0            1   \n",
       "\n",
       "   Semiurban  Urban  1  2  3+  \n",
       "0          0      1  0  0   0  \n",
       "1          0      0  1  0   0  \n",
       "2          0      1  0  0   0  \n",
       "3          0      1  0  0   0  \n",
       "4          0      1  0  0   0  "
      ]
     },
     "metadata": {},
     "output_type": "display_data"
    },
    {
     "name": "stdout",
     "output_type": "stream",
     "text": [
      "(614, 15)\n"
     ]
    },
    {
     "data": {
      "text/html": [
       "<div>\n",
       "<style scoped>\n",
       "    .dataframe tbody tr th:only-of-type {\n",
       "        vertical-align: middle;\n",
       "    }\n",
       "\n",
       "    .dataframe tbody tr th {\n",
       "        vertical-align: top;\n",
       "    }\n",
       "\n",
       "    .dataframe thead th {\n",
       "        text-align: right;\n",
       "    }\n",
       "</style>\n",
       "<table border=\"1\" class=\"dataframe\">\n",
       "  <thead>\n",
       "    <tr style=\"text-align: right;\">\n",
       "      <th></th>\n",
       "      <th>ApplicantIncome</th>\n",
       "      <th>CoapplicantIncome</th>\n",
       "      <th>LoanAmount</th>\n",
       "      <th>Loan_Amount_Term</th>\n",
       "      <th>Credit_History</th>\n",
       "      <th>Gender</th>\n",
       "      <th>Married</th>\n",
       "      <th>Education</th>\n",
       "      <th>Self_Employed</th>\n",
       "      <th>Loan_Status</th>\n",
       "      <th>Semiurban</th>\n",
       "      <th>Urban</th>\n",
       "      <th>1</th>\n",
       "      <th>2</th>\n",
       "      <th>3+</th>\n",
       "    </tr>\n",
       "  </thead>\n",
       "  <tbody>\n",
       "    <tr>\n",
       "      <th>0</th>\n",
       "      <td>5849</td>\n",
       "      <td>0.0</td>\n",
       "      <td>146.412162</td>\n",
       "      <td>360.0</td>\n",
       "      <td>1.0</td>\n",
       "      <td>1</td>\n",
       "      <td>0</td>\n",
       "      <td>0</td>\n",
       "      <td>0</td>\n",
       "      <td>1</td>\n",
       "      <td>0</td>\n",
       "      <td>1</td>\n",
       "      <td>0</td>\n",
       "      <td>0</td>\n",
       "      <td>0</td>\n",
       "    </tr>\n",
       "    <tr>\n",
       "      <th>1</th>\n",
       "      <td>4583</td>\n",
       "      <td>1508.0</td>\n",
       "      <td>128.000000</td>\n",
       "      <td>360.0</td>\n",
       "      <td>1.0</td>\n",
       "      <td>1</td>\n",
       "      <td>1</td>\n",
       "      <td>0</td>\n",
       "      <td>0</td>\n",
       "      <td>0</td>\n",
       "      <td>0</td>\n",
       "      <td>0</td>\n",
       "      <td>1</td>\n",
       "      <td>0</td>\n",
       "      <td>0</td>\n",
       "    </tr>\n",
       "    <tr>\n",
       "      <th>2</th>\n",
       "      <td>3000</td>\n",
       "      <td>0.0</td>\n",
       "      <td>66.000000</td>\n",
       "      <td>360.0</td>\n",
       "      <td>1.0</td>\n",
       "      <td>1</td>\n",
       "      <td>1</td>\n",
       "      <td>0</td>\n",
       "      <td>1</td>\n",
       "      <td>1</td>\n",
       "      <td>0</td>\n",
       "      <td>1</td>\n",
       "      <td>0</td>\n",
       "      <td>0</td>\n",
       "      <td>0</td>\n",
       "    </tr>\n",
       "    <tr>\n",
       "      <th>3</th>\n",
       "      <td>2583</td>\n",
       "      <td>2358.0</td>\n",
       "      <td>120.000000</td>\n",
       "      <td>360.0</td>\n",
       "      <td>1.0</td>\n",
       "      <td>1</td>\n",
       "      <td>1</td>\n",
       "      <td>1</td>\n",
       "      <td>0</td>\n",
       "      <td>1</td>\n",
       "      <td>0</td>\n",
       "      <td>1</td>\n",
       "      <td>0</td>\n",
       "      <td>0</td>\n",
       "      <td>0</td>\n",
       "    </tr>\n",
       "    <tr>\n",
       "      <th>4</th>\n",
       "      <td>6000</td>\n",
       "      <td>0.0</td>\n",
       "      <td>141.000000</td>\n",
       "      <td>360.0</td>\n",
       "      <td>1.0</td>\n",
       "      <td>1</td>\n",
       "      <td>0</td>\n",
       "      <td>0</td>\n",
       "      <td>0</td>\n",
       "      <td>1</td>\n",
       "      <td>0</td>\n",
       "      <td>1</td>\n",
       "      <td>0</td>\n",
       "      <td>0</td>\n",
       "      <td>0</td>\n",
       "    </tr>\n",
       "  </tbody>\n",
       "</table>\n",
       "</div>"
      ],
      "text/plain": [
       "   ApplicantIncome  CoapplicantIncome  LoanAmount  Loan_Amount_Term  \\\n",
       "0             5849                0.0  146.412162             360.0   \n",
       "1             4583             1508.0  128.000000             360.0   \n",
       "2             3000                0.0   66.000000             360.0   \n",
       "3             2583             2358.0  120.000000             360.0   \n",
       "4             6000                0.0  141.000000             360.0   \n",
       "\n",
       "   Credit_History  Gender  Married  Education  Self_Employed  Loan_Status  \\\n",
       "0             1.0       1        0          0              0            1   \n",
       "1             1.0       1        1          0              0            0   \n",
       "2             1.0       1        1          0              1            1   \n",
       "3             1.0       1        1          1              0            1   \n",
       "4             1.0       1        0          0              0            1   \n",
       "\n",
       "   Semiurban  Urban  1  2  3+  \n",
       "0          0      1  0  0   0  \n",
       "1          0      0  1  0   0  \n",
       "2          0      1  0  0   0  \n",
       "3          0      1  0  0   0  \n",
       "4          0      1  0  0   0  "
      ]
     },
     "metadata": {},
     "output_type": "display_data"
    },
    {
     "name": "stdout",
     "output_type": "stream",
     "text": [
      "(445, 15)\n"
     ]
    }
   ],
   "source": [
    "base_df = pd.read_pickle('cleaned_data_loan_approval.pkl')\n",
    "base_no_outliers_df = pd.read_pickle('cleaned_data_loan_approval_without_outliers.pkl')\n",
    "\n",
    "display(base_df.head())\n",
    "print(base_df.shape)\n",
    "\n",
    "display(base_no_outliers_df.head())\n",
    "print(base_no_outliers_df.shape)"
   ]
  },
  {
   "cell_type": "markdown",
   "id": "56ec3949",
   "metadata": {},
   "source": [
    "## Splitting Data"
   ]
  },
  {
   "cell_type": "code",
   "execution_count": 13,
   "id": "594990a3",
   "metadata": {},
   "outputs": [
    {
     "name": "stdout",
     "output_type": "stream",
     "text": [
      "Shape: X(614, 14), y(614,)\n",
      "Shape: X_1(445, 14), y_1(445,)\n"
     ]
    }
   ],
   "source": [
    "# Base Model\n",
    "X = base_df[['LoanAmount','ApplicantIncome','CoapplicantIncome','Loan_Amount_Term','Credit_History','Gender', 'Married', 'Education', 'Self_Employed','Semiurban','Urban','1','2','3+' ]]\n",
    "y = base_df['Loan_Status']\n",
    "\n",
    "# With outliers removed\n",
    "X_1 = base_no_outliers_df[['LoanAmount','ApplicantIncome','CoapplicantIncome','Loan_Amount_Term','Credit_History','Gender', 'Married', 'Education', 'Self_Employed','Semiurban','Urban','1','2','3+' ]]\n",
    "y_1 = base_no_outliers_df['Loan_Status']\n",
    "\n",
    "print(f'Shape: X{X.shape}, y{y.shape}')\n",
    "print(f'Shape: X_1{X_1.shape}, y_1{y_1.shape}')"
   ]
  },
  {
   "cell_type": "markdown",
   "id": "cabe31a7",
   "metadata": {},
   "source": [
    "📝 These two are the same dataset but with different variations such as the (*)_1 not having outliers."
   ]
  },
  {
   "cell_type": "markdown",
   "id": "f9dd9ec1",
   "metadata": {},
   "source": [
    "## Training Random Forest Models"
   ]
  },
  {
   "cell_type": "markdown",
   "id": "88f69758",
   "metadata": {},
   "source": [
    "### Base Models"
   ]
  },
  {
   "cell_type": "code",
   "execution_count": 42,
   "id": "1abc6912",
   "metadata": {
    "scrolled": true
   },
   "outputs": [
    {
     "name": "stdout",
     "output_type": "stream",
     "text": [
      "              precision    recall  f1-score   support\n",
      "\n",
      "           0       0.76      0.44      0.56        63\n",
      "           1       0.76      0.93      0.84       122\n",
      "\n",
      "    accuracy                           0.76       185\n",
      "   macro avg       0.76      0.69      0.70       185\n",
      "weighted avg       0.76      0.76      0.74       185\n",
      "\n"
     ]
    },
    {
     "data": {
      "text/html": [
       "<style  type=\"text/css\" >\n",
       "#T_5ab89_row0_col0,#T_5ab89_row1_col1{\n",
       "            background-color:  #08306b;\n",
       "            color:  #f1f1f1;\n",
       "        }#T_5ab89_row0_col1,#T_5ab89_row1_col0{\n",
       "            background-color:  #f7fbff;\n",
       "            color:  #000000;\n",
       "        }</style><table id=\"T_5ab89_\" ><thead>    <tr>        <th class=\"blank level0\" ></th>        <th class=\"col_heading level0 col0\" >Predicted False</th>        <th class=\"col_heading level0 col1\" >Predicted True</th>    </tr></thead><tbody>\n",
       "                <tr>\n",
       "                        <th id=\"T_5ab89_level0_row0\" class=\"row_heading level0 row0\" >Actual False</th>\n",
       "                        <td id=\"T_5ab89_row0_col0\" class=\"data row0 col0\" >28</td>\n",
       "                        <td id=\"T_5ab89_row0_col1\" class=\"data row0 col1\" >35</td>\n",
       "            </tr>\n",
       "            <tr>\n",
       "                        <th id=\"T_5ab89_level0_row1\" class=\"row_heading level0 row1\" >Actual True</th>\n",
       "                        <td id=\"T_5ab89_row1_col0\" class=\"data row1 col0\" >9</td>\n",
       "                        <td id=\"T_5ab89_row1_col1\" class=\"data row1 col1\" >113</td>\n",
       "            </tr>\n",
       "    </tbody></table>"
      ],
      "text/plain": [
       "<pandas.io.formats.style.Styler at 0x25130875730>"
      ]
     },
     "execution_count": 42,
     "metadata": {},
     "output_type": "execute_result"
    }
   ],
   "source": [
    "X_train, X_test, y_train, y_test = train_test_split(X,y,test_size = 0.3, random_state = 100)\n",
    "\n",
    "forest = RandomForestClassifier(n_estimators = 100)\n",
    "\n",
    "forest.fit(X_train,y_train)\n",
    "\n",
    "forest_pred = forest.predict(X_test)\n",
    "\n",
    "print(classification_report(y_test, forest_pred))\n",
    "df_matrix=pd.DataFrame(confusion_matrix(y_test, forest_pred), \n",
    "             columns=[\"Predicted False\", \"Predicted True\"], \n",
    "             index=[\"Actual False\", \"Actual True\"])\n",
    "df_matrix.style.background_gradient(cmap='Blues')"
   ]
  },
  {
   "cell_type": "markdown",
   "id": "ae81c13c",
   "metadata": {},
   "source": [
    "⚠️**Author's Notes:** \n",
    "* This model gave us a 0.77 accuracy score however the recall for 0 is too low. Need to look into this and see if I can increase that value. "
   ]
  },
  {
   "cell_type": "markdown",
   "id": "609e4e50",
   "metadata": {},
   "source": [
    "### Without Outliers"
   ]
  },
  {
   "cell_type": "code",
   "execution_count": 34,
   "id": "105c5434",
   "metadata": {
    "scrolled": true
   },
   "outputs": [
    {
     "name": "stdout",
     "output_type": "stream",
     "text": [
      "              precision    recall  f1-score   support\n",
      "\n",
      "           0       0.67      0.34      0.45        35\n",
      "           1       0.80      0.94      0.87        99\n",
      "\n",
      "    accuracy                           0.78       134\n",
      "   macro avg       0.73      0.64      0.66       134\n",
      "weighted avg       0.77      0.78      0.76       134\n",
      "\n"
     ]
    },
    {
     "data": {
      "text/html": [
       "<style  type=\"text/css\" >\n",
       "#T_f22bb_row0_col0,#T_f22bb_row1_col1{\n",
       "            background-color:  #08306b;\n",
       "            color:  #f1f1f1;\n",
       "        }#T_f22bb_row0_col1,#T_f22bb_row1_col0{\n",
       "            background-color:  #f7fbff;\n",
       "            color:  #000000;\n",
       "        }</style><table id=\"T_f22bb_\" ><thead>    <tr>        <th class=\"blank level0\" ></th>        <th class=\"col_heading level0 col0\" >Predicted False</th>        <th class=\"col_heading level0 col1\" >Predicted True</th>    </tr></thead><tbody>\n",
       "                <tr>\n",
       "                        <th id=\"T_f22bb_level0_row0\" class=\"row_heading level0 row0\" >Actual False</th>\n",
       "                        <td id=\"T_f22bb_row0_col0\" class=\"data row0 col0\" >12</td>\n",
       "                        <td id=\"T_f22bb_row0_col1\" class=\"data row0 col1\" >23</td>\n",
       "            </tr>\n",
       "            <tr>\n",
       "                        <th id=\"T_f22bb_level0_row1\" class=\"row_heading level0 row1\" >Actual True</th>\n",
       "                        <td id=\"T_f22bb_row1_col0\" class=\"data row1 col0\" >6</td>\n",
       "                        <td id=\"T_f22bb_row1_col1\" class=\"data row1 col1\" >93</td>\n",
       "            </tr>\n",
       "    </tbody></table>"
      ],
      "text/plain": [
       "<pandas.io.formats.style.Styler at 0x25130400100>"
      ]
     },
     "execution_count": 34,
     "metadata": {},
     "output_type": "execute_result"
    }
   ],
   "source": [
    "X_train_1, X_test_1, y_train_1, y_test_1 = train_test_split(X_1,y_1,test_size = 0.3, random_state = 100)\n",
    "\n",
    "forest_1 = RandomForestClassifier(n_estimators = 100)\n",
    "forest_1.fit(X_train_1,y_train_1)\n",
    "\n",
    "forest_pred_1 = forest_1.predict(X_test_1)\n",
    "\n",
    "print(classification_report(y_test_1, forest_pred_1))\n",
    "df_matrix=pd.DataFrame(confusion_matrix(y_test_1, forest_pred_1), \n",
    "             columns=[\"Predicted False\", \"Predicted True\"], \n",
    "             index=[\"Actual False\", \"Actual True\"])\n",
    "df_matrix.style.background_gradient(cmap='Blues')"
   ]
  },
  {
   "cell_type": "markdown",
   "id": "4b4d4f40",
   "metadata": {},
   "source": [
    "⚠️ **Author's Notes:** \n",
    "* This is not really the improvement I was hoping to see. The accuracy increased by 1% (which is negligible) while the 1 for both precision and recall remained the same (negligible improvement/decline). Need to look if there could be more improvements in the dataset."
   ]
  },
  {
   "cell_type": "markdown",
   "id": "9ae8d8f5",
   "metadata": {},
   "source": [
    "## Feature Importance"
   ]
  },
  {
   "cell_type": "code",
   "execution_count": 23,
   "id": "0c5e95eb",
   "metadata": {},
   "outputs": [],
   "source": [
    "def feature_plot(coef, columns,y_title = 'coefficients'):\n",
    "    feature_imp = pd.DataFrame(coef.T, columns = ['importance'])\n",
    "    feature_imp['feature'] = columns\n",
    "    feature_imp.sort_values(by=['importance'], ascending = False, inplace = True)\n",
    "    feature_imp.plot(x = 'feature', kind = 'bar', figsize = (16,4))\n",
    "    plt.title(y_title)\n",
    "    plt.ylabel(y_title)"
   ]
  },
  {
   "cell_type": "code",
   "execution_count": 24,
   "id": "66385ff6",
   "metadata": {
    "scrolled": false
   },
   "outputs": [
    {
     "data": {
      "image/png": "[encoded data removed]",
      "text/plain": [
       "<Figure size 1152x288 with 1 Axes>"
      ]
     },
     "metadata": {
      "needs_background": "light"
     },
     "output_type": "display_data"
    },
    {
     "data": {
      "image/png": "[encoded data removed]",
      "text/plain": [
       "<Figure size 1152x288 with 1 Axes>"
      ]
     },
     "metadata": {
      "needs_background": "light"
     },
     "output_type": "display_data"
    }
   ],
   "source": [
    "feature_names = list(base_df.columns)\n",
    "feature_names_1 = list(base_no_outliers_df.columns)\n",
    "\n",
    "feature_names.remove('Loan_Status')\n",
    "feature_names_1.remove('Loan_Status')\n",
    "\n",
    "feature_plot(coef= forest.feature_importances_, columns=feature_names, y_title='forest feature importance')\n",
    "feature_plot(coef= forest_1.feature_importances_, columns=feature_names_1, y_title='forest feature importance no outliers')"
   ]
  },
  {
   "cell_type": "markdown",
   "id": "f8ec655b",
   "metadata": {},
   "source": [
    "⚠️ **Author's Notes**\n",
    "* First observation shows that Credit_History, CoApplicantIncome, ApplicantIncome, and Loan Amount played a significant role in determining loan status. What stood out was that with the data set without outliers Loan Amount Term had no importance compared to the base data set with outliers. "
   ]
  },
  {
   "cell_type": "markdown",
   "id": "9e8d3100",
   "metadata": {},
   "source": [
    "### Generating an ROC Curve for Base Model, GridSearch, and RandomSearch"
   ]
  },
  {
   "cell_type": "markdown",
   "id": "2b8f06be",
   "metadata": {},
   "source": [
    "These models will go off the data set without outliers."
   ]
  },
  {
   "cell_type": "code",
   "execution_count": 64,
   "id": "62dee715",
   "metadata": {},
   "outputs": [],
   "source": [
    "# Modify the X_train and y_train in use for different variations of datasets.\n",
    "# These temp variables will be used for both Randomized and GridSearch\n",
    "X_train_temp = X_train\n",
    "y_train_temp = y_train\n",
    "\n",
    "X_test_temp = X_test\n",
    "y_test_temp = y_test"
   ]
  },
  {
   "cell_type": "markdown",
   "id": "a6cba1a1",
   "metadata": {},
   "source": [
    "#### Randomized Search"
   ]
  },
  {
   "cell_type": "code",
   "execution_count": 59,
   "id": "e646069b",
   "metadata": {},
   "outputs": [
    {
     "name": "stdout",
     "output_type": "stream",
     "text": [
      "RandomizedSearchCV took 1.7 seconds for 15 iterations of searches on given parameter settings.\n",
      "---------------------------------------------------------------------------\n",
      "Random Search Best Score: 0.823\n",
      "---------------------------------------------------------------------------\n",
      "Random Search Best Estimator:\n",
      " RandomForestClassifier(max_depth=2, max_features=6, min_samples_split=11,\n",
      "                       n_estimators=20)\n",
      "---------------------------------------------------------------------------\n",
      "Random Search Best Params:\n",
      " {'criterion': 'gini', 'max_depth': 2, 'max_features': 6, 'min_samples_split': 11}\n",
      "---------------------------------------------------------------------------\n",
      "Random Search Results:\n",
      " dict_keys(['mean_fit_time', 'std_fit_time', 'mean_score_time', 'std_score_time', 'param_criterion', 'param_max_depth', 'param_max_features', 'param_min_samples_split', 'params', 'split0_test_score', 'split1_test_score', 'split2_test_score', 'split3_test_score', 'split4_test_score', 'mean_test_score', 'std_test_score', 'rank_test_score'])\n"
     ]
    }
   ],
   "source": [
    "# Creating a base model\n",
    "forest_base = RandomForestClassifier(n_estimators = 20)\n",
    "param_distribution = {\n",
    "    'max_depth':[2,3],\n",
    "    'max_features': randint(1,13),\n",
    "    'min_samples_split': randint(2,13),\n",
    "    'criterion': ['gini','entropy']\n",
    "}\n",
    "n_iter_search = 15\n",
    "# Creating a random search model\n",
    "forest_random_search = RandomizedSearchCV(forest_base, param_distributions = param_distribution, n_iter = n_iter_search, cv = 5)\n",
    "# Time the fitting of this model\n",
    "start = time()\n",
    "forest_random_search.fit(X_train_temp,y_train_temp)\n",
    "print(f'RandomizedSearchCV took {round((time() - start), 2)} seconds for {n_iter_search} iterations of searches on given parameter settings.')\n",
    "print(f'---------------------------------------------------------------------------')\n",
    "print(f'Random Search Best Score: {round(forest_random_search.best_score_,3)}')\n",
    "print(f'---------------------------------------------------------------------------')\n",
    "print(f'Random Search Best Estimator:\\n {forest_random_search.best_estimator_}')\n",
    "print(f'---------------------------------------------------------------------------')\n",
    "print(f'Random Search Best Params:\\n {forest_random_search.best_params_}')\n",
    "print(f'---------------------------------------------------------------------------')\n",
    "print(f'Random Search Results:\\n {forest_random_search.cv_results_.keys()}')"
   ]
  },
  {
   "cell_type": "code",
   "execution_count": 63,
   "id": "8a0f807e",
   "metadata": {},
   "outputs": [
    {
     "name": "stdout",
     "output_type": "stream",
     "text": [
      "              precision    recall  f1-score   support\n",
      "\n",
      "           0       0.89      0.40      0.55        63\n",
      "           1       0.76      0.98      0.85       122\n",
      "\n",
      "    accuracy                           0.78       185\n",
      "   macro avg       0.83      0.69      0.70       185\n",
      "weighted avg       0.80      0.78      0.75       185\n",
      "\n"
     ]
    },
    {
     "data": {
      "text/html": [
       "<style  type=\"text/css\" >\n",
       "#T_82bbe_row0_col0,#T_82bbe_row1_col1{\n",
       "            background-color:  #08306b;\n",
       "            color:  #f1f1f1;\n",
       "        }#T_82bbe_row0_col1,#T_82bbe_row1_col0{\n",
       "            background-color:  #f7fbff;\n",
       "            color:  #000000;\n",
       "        }</style><table id=\"T_82bbe_\" ><thead>    <tr>        <th class=\"blank level0\" ></th>        <th class=\"col_heading level0 col0\" >Predicted False</th>        <th class=\"col_heading level0 col1\" >Predicted True</th>    </tr></thead><tbody>\n",
       "                <tr>\n",
       "                        <th id=\"T_82bbe_level0_row0\" class=\"row_heading level0 row0\" >Actual False</th>\n",
       "                        <td id=\"T_82bbe_row0_col0\" class=\"data row0 col0\" >25</td>\n",
       "                        <td id=\"T_82bbe_row0_col1\" class=\"data row0 col1\" >38</td>\n",
       "            </tr>\n",
       "            <tr>\n",
       "                        <th id=\"T_82bbe_level0_row1\" class=\"row_heading level0 row1\" >Actual True</th>\n",
       "                        <td id=\"T_82bbe_row1_col0\" class=\"data row1 col0\" >3</td>\n",
       "                        <td id=\"T_82bbe_row1_col1\" class=\"data row1 col1\" >119</td>\n",
       "            </tr>\n",
       "    </tbody></table>"
      ],
      "text/plain": [
       "<pandas.io.formats.style.Styler at 0x251306353d0>"
      ]
     },
     "execution_count": 63,
     "metadata": {},
     "output_type": "execute_result"
    }
   ],
   "source": [
    "forest_random_search_pred = forest_random_search.predict(X_test_temp)\n",
    "print(classification_report(y_test_temp, forest_random_search_pred))\n",
    "\n",
    "df_matrix=pd.DataFrame(confusion_matrix(y_test_temp, forest_random_search_pred), \n",
    "             columns=[\"Predicted False\", \"Predicted True\"], \n",
    "             index=[\"Actual False\", \"Actual True\"])\n",
    "df_matrix.style.background_gradient(cmap='Blues')"
   ]
  },
  {
   "cell_type": "code",
   "execution_count": 68,
   "id": "2c0d3c50",
   "metadata": {},
   "outputs": [],
   "source": [
    "def print_report(search_results, top_n = 2):\n",
    "    for i in range(1, top_n + 1):\n",
    "        rank = np.flatnonzero(search_results['rank_test_score'] == i)\n",
    "        for val in rank: \n",
    "            print(\"Model rank: \", i)\n",
    "            print(\"Mean validation score: {:.3f}\".format(search_results['mean_test_score'][val]))\n",
    "            print(\"std_test_score: {:.3f}\".format(search_results['std_test_score'][val]))\n",
    "            print(\"Parameters: {}\\n\".format(format(search_results['params'][val])))"
   ]
  },
  {
   "cell_type": "code",
   "execution_count": 69,
   "id": "8373dbbc",
   "metadata": {
    "scrolled": true
   },
   "outputs": [
    {
     "name": "stdout",
     "output_type": "stream",
     "text": [
      "Model rank:  1\n",
      "Mean validation score: 0.823\n",
      "std_test_score: 0.024\n",
      "Parameters: {'criterion': 'gini', 'max_depth': 2, 'max_features': 6, 'min_samples_split': 11}\n",
      "\n",
      "Model rank:  1\n",
      "Mean validation score: 0.823\n",
      "std_test_score: 0.024\n",
      "Parameters: {'criterion': 'gini', 'max_depth': 2, 'max_features': 9, 'min_samples_split': 7}\n",
      "\n",
      "Model rank:  1\n",
      "Mean validation score: 0.823\n",
      "std_test_score: 0.024\n",
      "Parameters: {'criterion': 'entropy', 'max_depth': 2, 'max_features': 11, 'min_samples_split': 8}\n",
      "\n",
      "Model rank:  1\n",
      "Mean validation score: 0.823\n",
      "std_test_score: 0.024\n",
      "Parameters: {'criterion': 'entropy', 'max_depth': 2, 'max_features': 6, 'min_samples_split': 12}\n",
      "\n"
     ]
    }
   ],
   "source": [
    "print_report(forest_random_search.cv_results_, 3)"
   ]
  },
  {
   "cell_type": "markdown",
   "id": "3dd4a9f7",
   "metadata": {},
   "source": [
    "⚠️**Author's Notes:**\n",
    "\n",
    "* All of these produce the same result. Is there an error in my methods?"
   ]
  },
  {
   "cell_type": "markdown",
   "id": "e28c9ded",
   "metadata": {},
   "source": [
    "#### GridSearch"
   ]
  },
  {
   "cell_type": "code",
   "execution_count": null,
   "id": "c2698675",
   "metadata": {},
   "outputs": [],
   "source": [
    "forest_random = RandomForestClassifier(n_estimators=20)\n",
    "param_grid = {\n",
    "    'max_depth': [2,3],\n",
    "    'max_features': [3,5,13],\n",
    "    'min_samples_split': [2,3,13],\n",
    "    'criterion': ['gini','entropy']\n",
    "}\n",
    "grid_search_rfc = GridSearchCV(rfc_GS,param_grid=param_grid,cv=5)\n",
    "start = time()\n",
    "grid_search_rfc.fit(X_train,y_train)\n",
    "print(f'GridSearchCV took {time() - start} for ')\n",
    "print(len(grid_search_rfc.cv_results_['params']))\n",
    "print('candidate parameter settings.')"
   ]
  }
 ],
 "metadata": {
  "kernelspec": {
   "display_name": "Python 3",
   "language": "python",
   "name": "python3"
  },
  "language_info": {
   "codemirror_mode": {
    "name": "ipython",
    "version": 3
   },
   "file_extension": ".py",
   "mimetype": "text/x-python",
   "name": "python",
   "nbconvert_exporter": "python",
   "pygments_lexer": "ipython3",
   "version": "3.8.8"
  }
 },
 "nbformat": 4,
 "nbformat_minor": 5
}
