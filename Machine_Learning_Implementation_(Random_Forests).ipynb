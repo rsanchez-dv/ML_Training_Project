{
 "cells": [
  {
   "cell_type": "markdown",
   "id": "8c6dd2fb",
   "metadata": {},
   "source": [
    "# Machine Learning Implementation (Random Forests)"
   ]
  },
  {
   "cell_type": "markdown",
   "id": "1eb155b4",
   "metadata": {},
   "source": [
    "This document contains the actual data splitting, training, and metrics for the following machine learning models"
   ]
  },
  {
   "cell_type": "markdown",
   "id": "8c8679ee",
   "metadata": {},
   "source": [
    "## Importing our libraries"
   ]
  },
  {
   "cell_type": "code",
   "execution_count": 1,
   "id": "3d7b4a36",
   "metadata": {},
   "outputs": [],
   "source": [
    "# Importing libraries\n",
    "import pandas as pd\n",
    "import numpy as np\n",
    "import matplotlib.pyplot as plt\n",
    "import seaborn as sns\n",
    "\n",
    "from sklearn.model_selection import train_test_split\n",
    "from sklearn.ensemble import RandomForestClassifier\n",
    "from sklearn.metrics import classification_report, confusion_matrix, plot_confusion_matrix,roc_auc_score, roc_curve\n",
    "from sklearn.svm import SVC\n",
    "\n",
    "from time import time\n",
    "from scipy.stats import randint\n",
    "from sklearn.model_selection import GridSearchCV, RandomizedSearchCV\n",
    "\n",
    "import pickle"
   ]
  },
  {
   "cell_type": "markdown",
   "id": "5b009bf8",
   "metadata": {},
   "source": [
    "## Reading saved clean data"
   ]
  },
  {
   "cell_type": "code",
   "execution_count": 2,
   "id": "1d3ed8a6",
   "metadata": {},
   "outputs": [
    {
     "data": {
      "text/html": [
       "<div>\n",
       "<style scoped>\n",
       "    .dataframe tbody tr th:only-of-type {\n",
       "        vertical-align: middle;\n",
       "    }\n",
       "\n",
       "    .dataframe tbody tr th {\n",
       "        vertical-align: top;\n",
       "    }\n",
       "\n",
       "    .dataframe thead th {\n",
       "        text-align: right;\n",
       "    }\n",
       "</style>\n",
       "<table border=\"1\" class=\"dataframe\">\n",
       "  <thead>\n",
       "    <tr style=\"text-align: right;\">\n",
       "      <th></th>\n",
       "      <th>ApplicantIncome</th>\n",
       "      <th>CoapplicantIncome</th>\n",
       "      <th>LoanAmount</th>\n",
       "      <th>Loan_Amount_Term</th>\n",
       "      <th>Credit_History</th>\n",
       "      <th>Gender</th>\n",
       "      <th>Married</th>\n",
       "      <th>Education</th>\n",
       "      <th>Self_Employed</th>\n",
       "      <th>Loan_Status</th>\n",
       "      <th>Semiurban</th>\n",
       "      <th>Urban</th>\n",
       "      <th>1</th>\n",
       "      <th>2</th>\n",
       "      <th>3+</th>\n",
       "    </tr>\n",
       "  </thead>\n",
       "  <tbody>\n",
       "    <tr>\n",
       "      <th>0</th>\n",
       "      <td>5849</td>\n",
       "      <td>0.0</td>\n",
       "      <td>146.412162</td>\n",
       "      <td>360.0</td>\n",
       "      <td>1.0</td>\n",
       "      <td>1</td>\n",
       "      <td>0</td>\n",
       "      <td>0</td>\n",
       "      <td>0</td>\n",
       "      <td>1</td>\n",
       "      <td>0</td>\n",
       "      <td>1</td>\n",
       "      <td>0</td>\n",
       "      <td>0</td>\n",
       "      <td>0</td>\n",
       "    </tr>\n",
       "    <tr>\n",
       "      <th>1</th>\n",
       "      <td>4583</td>\n",
       "      <td>1508.0</td>\n",
       "      <td>128.000000</td>\n",
       "      <td>360.0</td>\n",
       "      <td>1.0</td>\n",
       "      <td>1</td>\n",
       "      <td>1</td>\n",
       "      <td>0</td>\n",
       "      <td>0</td>\n",
       "      <td>0</td>\n",
       "      <td>0</td>\n",
       "      <td>0</td>\n",
       "      <td>1</td>\n",
       "      <td>0</td>\n",
       "      <td>0</td>\n",
       "    </tr>\n",
       "    <tr>\n",
       "      <th>2</th>\n",
       "      <td>3000</td>\n",
       "      <td>0.0</td>\n",
       "      <td>66.000000</td>\n",
       "      <td>360.0</td>\n",
       "      <td>1.0</td>\n",
       "      <td>1</td>\n",
       "      <td>1</td>\n",
       "      <td>0</td>\n",
       "      <td>1</td>\n",
       "      <td>1</td>\n",
       "      <td>0</td>\n",
       "      <td>1</td>\n",
       "      <td>0</td>\n",
       "      <td>0</td>\n",
       "      <td>0</td>\n",
       "    </tr>\n",
       "    <tr>\n",
       "      <th>3</th>\n",
       "      <td>2583</td>\n",
       "      <td>2358.0</td>\n",
       "      <td>120.000000</td>\n",
       "      <td>360.0</td>\n",
       "      <td>1.0</td>\n",
       "      <td>1</td>\n",
       "      <td>1</td>\n",
       "      <td>1</td>\n",
       "      <td>0</td>\n",
       "      <td>1</td>\n",
       "      <td>0</td>\n",
       "      <td>1</td>\n",
       "      <td>0</td>\n",
       "      <td>0</td>\n",
       "      <td>0</td>\n",
       "    </tr>\n",
       "    <tr>\n",
       "      <th>4</th>\n",
       "      <td>6000</td>\n",
       "      <td>0.0</td>\n",
       "      <td>141.000000</td>\n",
       "      <td>360.0</td>\n",
       "      <td>1.0</td>\n",
       "      <td>1</td>\n",
       "      <td>0</td>\n",
       "      <td>0</td>\n",
       "      <td>0</td>\n",
       "      <td>1</td>\n",
       "      <td>0</td>\n",
       "      <td>1</td>\n",
       "      <td>0</td>\n",
       "      <td>0</td>\n",
       "      <td>0</td>\n",
       "    </tr>\n",
       "  </tbody>\n",
       "</table>\n",
       "</div>"
      ],
      "text/plain": [
       "   ApplicantIncome  CoapplicantIncome  LoanAmount  Loan_Amount_Term  \\\n",
       "0             5849                0.0  146.412162             360.0   \n",
       "1             4583             1508.0  128.000000             360.0   \n",
       "2             3000                0.0   66.000000             360.0   \n",
       "3             2583             2358.0  120.000000             360.0   \n",
       "4             6000                0.0  141.000000             360.0   \n",
       "\n",
       "   Credit_History  Gender  Married  Education  Self_Employed  Loan_Status  \\\n",
       "0             1.0       1        0          0              0            1   \n",
       "1             1.0       1        1          0              0            0   \n",
       "2             1.0       1        1          0              1            1   \n",
       "3             1.0       1        1          1              0            1   \n",
       "4             1.0       1        0          0              0            1   \n",
       "\n",
       "   Semiurban  Urban  1  2  3+  \n",
       "0          0      1  0  0   0  \n",
       "1          0      0  1  0   0  \n",
       "2          0      1  0  0   0  \n",
       "3          0      1  0  0   0  \n",
       "4          0      1  0  0   0  "
      ]
     },
     "metadata": {},
     "output_type": "display_data"
    },
    {
     "name": "stdout",
     "output_type": "stream",
     "text": [
      "(614, 15)\n"
     ]
    },
    {
     "data": {
      "text/html": [
       "<div>\n",
       "<style scoped>\n",
       "    .dataframe tbody tr th:only-of-type {\n",
       "        vertical-align: middle;\n",
       "    }\n",
       "\n",
       "    .dataframe tbody tr th {\n",
       "        vertical-align: top;\n",
       "    }\n",
       "\n",
       "    .dataframe thead th {\n",
       "        text-align: right;\n",
       "    }\n",
       "</style>\n",
       "<table border=\"1\" class=\"dataframe\">\n",
       "  <thead>\n",
       "    <tr style=\"text-align: right;\">\n",
       "      <th></th>\n",
       "      <th>ApplicantIncome</th>\n",
       "      <th>CoapplicantIncome</th>\n",
       "      <th>LoanAmount</th>\n",
       "      <th>Loan_Amount_Term</th>\n",
       "      <th>Credit_History</th>\n",
       "      <th>Gender</th>\n",
       "      <th>Married</th>\n",
       "      <th>Education</th>\n",
       "      <th>Self_Employed</th>\n",
       "      <th>Loan_Status</th>\n",
       "      <th>Semiurban</th>\n",
       "      <th>Urban</th>\n",
       "      <th>1</th>\n",
       "      <th>2</th>\n",
       "      <th>3+</th>\n",
       "    </tr>\n",
       "  </thead>\n",
       "  <tbody>\n",
       "    <tr>\n",
       "      <th>0</th>\n",
       "      <td>5849</td>\n",
       "      <td>0.0</td>\n",
       "      <td>146.412162</td>\n",
       "      <td>360.0</td>\n",
       "      <td>1.0</td>\n",
       "      <td>1</td>\n",
       "      <td>0</td>\n",
       "      <td>0</td>\n",
       "      <td>0</td>\n",
       "      <td>1</td>\n",
       "      <td>0</td>\n",
       "      <td>1</td>\n",
       "      <td>0</td>\n",
       "      <td>0</td>\n",
       "      <td>0</td>\n",
       "    </tr>\n",
       "    <tr>\n",
       "      <th>1</th>\n",
       "      <td>4583</td>\n",
       "      <td>1508.0</td>\n",
       "      <td>128.000000</td>\n",
       "      <td>360.0</td>\n",
       "      <td>1.0</td>\n",
       "      <td>1</td>\n",
       "      <td>1</td>\n",
       "      <td>0</td>\n",
       "      <td>0</td>\n",
       "      <td>0</td>\n",
       "      <td>0</td>\n",
       "      <td>0</td>\n",
       "      <td>1</td>\n",
       "      <td>0</td>\n",
       "      <td>0</td>\n",
       "    </tr>\n",
       "    <tr>\n",
       "      <th>2</th>\n",
       "      <td>3000</td>\n",
       "      <td>0.0</td>\n",
       "      <td>66.000000</td>\n",
       "      <td>360.0</td>\n",
       "      <td>1.0</td>\n",
       "      <td>1</td>\n",
       "      <td>1</td>\n",
       "      <td>0</td>\n",
       "      <td>1</td>\n",
       "      <td>1</td>\n",
       "      <td>0</td>\n",
       "      <td>1</td>\n",
       "      <td>0</td>\n",
       "      <td>0</td>\n",
       "      <td>0</td>\n",
       "    </tr>\n",
       "    <tr>\n",
       "      <th>3</th>\n",
       "      <td>2583</td>\n",
       "      <td>2358.0</td>\n",
       "      <td>120.000000</td>\n",
       "      <td>360.0</td>\n",
       "      <td>1.0</td>\n",
       "      <td>1</td>\n",
       "      <td>1</td>\n",
       "      <td>1</td>\n",
       "      <td>0</td>\n",
       "      <td>1</td>\n",
       "      <td>0</td>\n",
       "      <td>1</td>\n",
       "      <td>0</td>\n",
       "      <td>0</td>\n",
       "      <td>0</td>\n",
       "    </tr>\n",
       "    <tr>\n",
       "      <th>4</th>\n",
       "      <td>6000</td>\n",
       "      <td>0.0</td>\n",
       "      <td>141.000000</td>\n",
       "      <td>360.0</td>\n",
       "      <td>1.0</td>\n",
       "      <td>1</td>\n",
       "      <td>0</td>\n",
       "      <td>0</td>\n",
       "      <td>0</td>\n",
       "      <td>1</td>\n",
       "      <td>0</td>\n",
       "      <td>1</td>\n",
       "      <td>0</td>\n",
       "      <td>0</td>\n",
       "      <td>0</td>\n",
       "    </tr>\n",
       "  </tbody>\n",
       "</table>\n",
       "</div>"
      ],
      "text/plain": [
       "   ApplicantIncome  CoapplicantIncome  LoanAmount  Loan_Amount_Term  \\\n",
       "0             5849                0.0  146.412162             360.0   \n",
       "1             4583             1508.0  128.000000             360.0   \n",
       "2             3000                0.0   66.000000             360.0   \n",
       "3             2583             2358.0  120.000000             360.0   \n",
       "4             6000                0.0  141.000000             360.0   \n",
       "\n",
       "   Credit_History  Gender  Married  Education  Self_Employed  Loan_Status  \\\n",
       "0             1.0       1        0          0              0            1   \n",
       "1             1.0       1        1          0              0            0   \n",
       "2             1.0       1        1          0              1            1   \n",
       "3             1.0       1        1          1              0            1   \n",
       "4             1.0       1        0          0              0            1   \n",
       "\n",
       "   Semiurban  Urban  1  2  3+  \n",
       "0          0      1  0  0   0  \n",
       "1          0      0  1  0   0  \n",
       "2          0      1  0  0   0  \n",
       "3          0      1  0  0   0  \n",
       "4          0      1  0  0   0  "
      ]
     },
     "metadata": {},
     "output_type": "display_data"
    },
    {
     "name": "stdout",
     "output_type": "stream",
     "text": [
      "(445, 15)\n"
     ]
    }
   ],
   "source": [
    "base_df = pd.read_pickle('cleaned_data_loan_approval.pkl')\n",
    "base_no_outliers_df = pd.read_pickle('cleaned_data_loan_approval_without_outliers.pkl')\n",
    "\n",
    "display(base_df.head())\n",
    "print(base_df.shape)\n",
    "\n",
    "display(base_no_outliers_df.head())\n",
    "print(base_no_outliers_df.shape)"
   ]
  },
  {
   "cell_type": "markdown",
   "id": "e86b4c33",
   "metadata": {},
   "source": [
    "## Splitting Data"
   ]
  },
  {
   "cell_type": "code",
   "execution_count": 3,
   "id": "5f05f741",
   "metadata": {
    "scrolled": true
   },
   "outputs": [
    {
     "name": "stdout",
     "output_type": "stream",
     "text": [
      "Shape: X(614, 14), y(614,)\n",
      "Shape: X_1(445, 14), y_1(445,)\n"
     ]
    }
   ],
   "source": [
    "# Base Model\n",
    "X = base_df[['LoanAmount','ApplicantIncome','CoapplicantIncome','Loan_Amount_Term','Credit_History','Gender', 'Married', 'Education', 'Self_Employed','Semiurban','Urban','1','2','3+' ]]\n",
    "y = base_df['Loan_Status']\n",
    "\n",
    "# With outliers removed\n",
    "X_1 = base_no_outliers_df[['LoanAmount','ApplicantIncome','CoapplicantIncome','Loan_Amount_Term','Credit_History','Gender', 'Married', 'Education', 'Self_Employed','Semiurban','Urban','1','2','3+' ]]\n",
    "y_1 = base_no_outliers_df['Loan_Status']\n",
    "\n",
    "print(f'Shape: X{X.shape}, y{y.shape}')\n",
    "print(f'Shape: X_1{X_1.shape}, y_1{y_1.shape}')"
   ]
  },
  {
   "cell_type": "markdown",
   "id": "78a3ea62",
   "metadata": {},
   "source": [
    "📝 These two are the same dataset but with different variations such as the (*)_1 not having outliers."
   ]
  },
  {
   "cell_type": "markdown",
   "id": "888c9ce7",
   "metadata": {},
   "source": [
    "## Training Random Forest Models"
   ]
  },
  {
   "cell_type": "markdown",
   "id": "c4a2be5b",
   "metadata": {},
   "source": [
    "### Base Models"
   ]
  },
  {
   "cell_type": "code",
   "execution_count": 34,
   "id": "915cd5fe",
   "metadata": {
    "scrolled": true
   },
   "outputs": [
    {
     "name": "stdout",
     "output_type": "stream",
     "text": [
      "It took 0.12 seconds to train this model.\n",
      "              precision    recall  f1-score   support\n",
      "\n",
      "           0       0.74      0.46      0.57        63\n",
      "           1       0.77      0.92      0.84       122\n",
      "\n",
      "    accuracy                           0.76       185\n",
      "   macro avg       0.76      0.69      0.70       185\n",
      "weighted avg       0.76      0.76      0.74       185\n",
      "\n"
     ]
    },
    {
     "data": {
      "text/html": [
       "<style  type=\"text/css\" >\n",
       "#T_c36b4_row0_col0,#T_c36b4_row1_col1{\n",
       "            background-color:  #08306b;\n",
       "            color:  #f1f1f1;\n",
       "        }#T_c36b4_row0_col1,#T_c36b4_row1_col0{\n",
       "            background-color:  #f7fbff;\n",
       "            color:  #000000;\n",
       "        }</style><table id=\"T_c36b4_\" ><thead>    <tr>        <th class=\"blank level0\" ></th>        <th class=\"col_heading level0 col0\" >Predicted False</th>        <th class=\"col_heading level0 col1\" >Predicted True</th>    </tr></thead><tbody>\n",
       "                <tr>\n",
       "                        <th id=\"T_c36b4_level0_row0\" class=\"row_heading level0 row0\" >Actual False</th>\n",
       "                        <td id=\"T_c36b4_row0_col0\" class=\"data row0 col0\" >29</td>\n",
       "                        <td id=\"T_c36b4_row0_col1\" class=\"data row0 col1\" >34</td>\n",
       "            </tr>\n",
       "            <tr>\n",
       "                        <th id=\"T_c36b4_level0_row1\" class=\"row_heading level0 row1\" >Actual True</th>\n",
       "                        <td id=\"T_c36b4_row1_col0\" class=\"data row1 col0\" >10</td>\n",
       "                        <td id=\"T_c36b4_row1_col1\" class=\"data row1 col1\" >112</td>\n",
       "            </tr>\n",
       "    </tbody></table>"
      ],
      "text/plain": [
       "<pandas.io.formats.style.Styler at 0x29f58582160>"
      ]
     },
     "execution_count": 34,
     "metadata": {},
     "output_type": "execute_result"
    }
   ],
   "source": [
    "X_train, X_test, y_train, y_test = train_test_split(X,y,test_size = 0.3, random_state = 100)\n",
    "\n",
    "forest = RandomForestClassifier(n_estimators = 100)\n",
    "start = time()\n",
    "forest.fit(X_train,y_train)\n",
    "\n",
    "forest_pred = forest.predict(X_test)\n",
    "print(f'It took {round((time()-start),2)} seconds to train this model.')\n",
    "\n",
    "print(classification_report(y_test, forest_pred))\n",
    "df_matrix=pd.DataFrame(confusion_matrix(y_test, forest_pred), \n",
    "             columns=[\"Predicted False\", \"Predicted True\"], \n",
    "             index=[\"Actual False\", \"Actual True\"])\n",
    "df_matrix.style.background_gradient(cmap='Blues')"
   ]
  },
  {
   "cell_type": "markdown",
   "id": "03b863dd",
   "metadata": {},
   "source": [
    "📝**Author's Notes:** \n",
    "* ⚠️This model gave us a 0.77 accuracy score however the recall for 0 is too low. Need to look into this and see if I can increase that value. "
   ]
  },
  {
   "cell_type": "markdown",
   "id": "e2a5bd36",
   "metadata": {},
   "source": [
    "### Without Outliers"
   ]
  },
  {
   "cell_type": "code",
   "execution_count": 33,
   "id": "11d55c30",
   "metadata": {
    "scrolled": true
   },
   "outputs": [
    {
     "name": "stdout",
     "output_type": "stream",
     "text": [
      "It took 0.01 seconds to train this model.\n",
      "              precision    recall  f1-score   support\n",
      "\n",
      "           0       0.67      0.34      0.45        35\n",
      "           1       0.80      0.94      0.87        99\n",
      "\n",
      "    accuracy                           0.78       134\n",
      "   macro avg       0.73      0.64      0.66       134\n",
      "weighted avg       0.77      0.78      0.76       134\n",
      "\n"
     ]
    },
    {
     "data": {
      "text/html": [
       "<style  type=\"text/css\" >\n",
       "#T_98583_row0_col0,#T_98583_row1_col1{\n",
       "            background-color:  #08306b;\n",
       "            color:  #f1f1f1;\n",
       "        }#T_98583_row0_col1,#T_98583_row1_col0{\n",
       "            background-color:  #f7fbff;\n",
       "            color:  #000000;\n",
       "        }</style><table id=\"T_98583_\" ><thead>    <tr>        <th class=\"blank level0\" ></th>        <th class=\"col_heading level0 col0\" >Predicted False</th>        <th class=\"col_heading level0 col1\" >Predicted True</th>    </tr></thead><tbody>\n",
       "                <tr>\n",
       "                        <th id=\"T_98583_level0_row0\" class=\"row_heading level0 row0\" >Actual False</th>\n",
       "                        <td id=\"T_98583_row0_col0\" class=\"data row0 col0\" >12</td>\n",
       "                        <td id=\"T_98583_row0_col1\" class=\"data row0 col1\" >23</td>\n",
       "            </tr>\n",
       "            <tr>\n",
       "                        <th id=\"T_98583_level0_row1\" class=\"row_heading level0 row1\" >Actual True</th>\n",
       "                        <td id=\"T_98583_row1_col0\" class=\"data row1 col0\" >6</td>\n",
       "                        <td id=\"T_98583_row1_col1\" class=\"data row1 col1\" >93</td>\n",
       "            </tr>\n",
       "    </tbody></table>"
      ],
      "text/plain": [
       "<pandas.io.formats.style.Styler at 0x29f58562c70>"
      ]
     },
     "execution_count": 33,
     "metadata": {},
     "output_type": "execute_result"
    }
   ],
   "source": [
    "X_train_1, X_test_1, y_train_1, y_test_1 = train_test_split(X_1,y_1,test_size = 0.3, random_state = 100)\n",
    "\n",
    "forest_1 = RandomForestClassifier(n_estimators = 100)\n",
    "forest_1.fit(X_train_1,y_train_1)\n",
    "\n",
    "start = time()\n",
    "forest_pred_1 = forest_1.predict(X_test_1)\n",
    "print(f'It took {round((time()-start),2)} seconds to train this model.')\n",
    "print(classification_report(y_test_1, forest_pred_1))\n",
    "df_matrix=pd.DataFrame(confusion_matrix(y_test_1, forest_pred_1), \n",
    "             columns=[\"Predicted False\", \"Predicted True\"], \n",
    "             index=[\"Actual False\", \"Actual True\"])\n",
    "df_matrix.style.background_gradient(cmap='Blues')"
   ]
  },
  {
   "cell_type": "markdown",
   "id": "06b498b8",
   "metadata": {},
   "source": [
    "📝**Author's Notes:** \n",
    "* ⚠️This is not really the improvement I was hoping to see. The accuracy increased by 1% (which is negligible) while the 1 for both precision and recall remained the same (negligible improvement/decline). Need to look if there could be more improvements in the dataset."
   ]
  },
  {
   "cell_type": "markdown",
   "id": "ffb0c9d6",
   "metadata": {},
   "source": [
    "## Feature Importance"
   ]
  },
  {
   "cell_type": "code",
   "execution_count": 6,
   "id": "36303dc2",
   "metadata": {},
   "outputs": [],
   "source": [
    "def feature_plot(coef, columns,y_title = 'coefficients'):\n",
    "    feature_imp = pd.DataFrame(coef.T, columns = ['importance'])\n",
    "    feature_imp['feature'] = columns\n",
    "    feature_imp.sort_values(by=['importance'], ascending = False, inplace = True)\n",
    "    feature_imp.plot(x = 'feature', kind = 'bar', figsize = (16,4))\n",
    "    plt.title(y_title)\n",
    "    plt.ylabel(y_title)"
   ]
  },
  {
   "cell_type": "code",
   "execution_count": 7,
   "id": "9c09403a",
   "metadata": {
    "scrolled": false
   },
   "outputs": [
    {
     "data": {
      "image/png": "[encoded data removed]",
      "text/plain": [
       "<Figure size 1152x288 with 1 Axes>"
      ]
     },
     "metadata": {
      "needs_background": "light"
     },
     "output_type": "display_data"
    },
    {
     "data": {
      "image/png": "[encoded data removed]",
      "text/plain": [
       "<Figure size 1152x288 with 1 Axes>"
      ]
     },
     "metadata": {
      "needs_background": "light"
     },
     "output_type": "display_data"
    }
   ],
   "source": [
    "feature_names = list(base_df.columns)\n",
    "feature_names_1 = list(base_no_outliers_df.columns)\n",
    "\n",
    "feature_names.remove('Loan_Status')\n",
    "feature_names_1.remove('Loan_Status')\n",
    "\n",
    "feature_plot(coef= forest.feature_importances_, columns=feature_names, y_title='forest feature importance')\n",
    "feature_plot(coef= forest_1.feature_importances_, columns=feature_names_1, y_title='forest feature importance no outliers')"
   ]
  },
  {
   "cell_type": "markdown",
   "id": "74e24996",
   "metadata": {},
   "source": [
    "📝**Author's Notes**\n",
    "* ⚠️First observation shows that Credit_History, CoApplicantIncome, ApplicantIncome, and Loan Amount played a significant role in determining loan status. What stood out was that with the data set without outliers Loan Amount Term had no importance compared to the base data set with outliers. "
   ]
  },
  {
   "cell_type": "markdown",
   "id": "082d79b1",
   "metadata": {},
   "source": [
    "## Generating an ROC Curve for Base Model, GridSearch, and RandomSearch"
   ]
  },
  {
   "cell_type": "markdown",
   "id": "93018f27",
   "metadata": {},
   "source": [
    "❗ These temp variables are used for both Randomized and Grid Search. These variables can be modified to run on any variation of the dataset to see changes."
   ]
  },
  {
   "cell_type": "code",
   "execution_count": 8,
   "id": "50426a97",
   "metadata": {},
   "outputs": [],
   "source": [
    "data_set = 1\n",
    "\n",
    "if data_set == 0:\n",
    "    X_train_temp = X_train\n",
    "    y_train_temp = y_train\n",
    "    X_test_temp = X_test\n",
    "    y_test_temp = y_test\n",
    "elif data_set == 1:\n",
    "    X_train_temp = X_train_1\n",
    "    y_train_temp = y_train_1\n",
    "    X_test_temp = X_test_1\n",
    "    y_test_temp = y_test_1\n",
    "    \n"
   ]
  },
  {
   "cell_type": "markdown",
   "id": "81c183a8",
   "metadata": {},
   "source": [
    "#### Randomized Search"
   ]
  },
  {
   "cell_type": "code",
   "execution_count": 48,
   "id": "7ca23d5d",
   "metadata": {},
   "outputs": [
    {
     "name": "stdout",
     "output_type": "stream",
     "text": [
      "Grid Search took 5.03 seconds for 36 candidate parameter settings.\n",
      "---------------------------------------------------------------------------\n",
      "Random Search Best Score: 0.836\n",
      "---------------------------------------------------------------------------\n",
      "Random Search Best Estimator:\n",
      " RandomForestClassifier(criterion='entropy', max_depth=2, max_features=4,\n",
      "                       min_samples_split=9)\n",
      "---------------------------------------------------------------------------\n",
      "Random Search Best Params:\n",
      " {'criterion': 'entropy', 'max_depth': 2, 'max_features': 4, 'min_samples_split': 9}\n",
      "---------------------------------------------------------------------------\n",
      "Random Search Results:\n",
      " dict_keys(['mean_fit_time', 'std_fit_time', 'mean_score_time', 'std_score_time', 'param_criterion', 'param_max_depth', 'param_max_features', 'param_min_samples_split', 'params', 'split0_test_score', 'split1_test_score', 'split2_test_score', 'split3_test_score', 'split4_test_score', 'mean_test_score', 'std_test_score', 'rank_test_score'])\n"
     ]
    }
   ],
   "source": [
    "# Creating a base model\n",
    "forest_base = RandomForestClassifier(n_estimators = 100)\n",
    "param_distribution = {\n",
    "    'max_depth':[2,3],\n",
    "    'max_features': randint(1,13),\n",
    "    'min_samples_split': randint(2,13),\n",
    "    'criterion': ['gini','entropy']\n",
    "}\n",
    "# Creating a random search model\n",
    "forest_random_search = RandomizedSearchCV(forest_base, param_distributions = param_distribution, cv = 5)\n",
    "# Time the fitting of this model\n",
    "start = time()\n",
    "forest_random_search.fit(X_train_temp,y_train_temp)\n",
    "print(\"Grid Search took %.2f seconds for %d candidate parameter settings.\"% (time() - start, len(forest_grid_search.cv_results_['params'])))\n",
    "print(f'---------------------------------------------------------------------------')\n",
    "print(f'Random Search Best Score: {round(forest_random_search.best_score_,3)}')\n",
    "print(f'---------------------------------------------------------------------------')\n",
    "print(f'Random Search Best Estimator:\\n {forest_random_search.best_estimator_}')\n",
    "print(f'---------------------------------------------------------------------------')\n",
    "print(f'Random Search Best Params:\\n {forest_random_search.best_params_}')\n",
    "print(f'---------------------------------------------------------------------------')\n",
    "print(f'Random Search Results:\\n {forest_random_search.cv_results_.keys()}')"
   ]
  },
  {
   "cell_type": "code",
   "execution_count": 50,
   "id": "44ad8b12",
   "metadata": {},
   "outputs": [
    {
     "name": "stdout",
     "output_type": "stream",
     "text": [
      "              precision    recall  f1-score   support\n",
      "\n",
      "           0       0.79      0.31      0.45        35\n",
      "           1       0.80      0.97      0.88        99\n",
      "\n",
      "    accuracy                           0.80       134\n",
      "   macro avg       0.79      0.64      0.66       134\n",
      "weighted avg       0.80      0.80      0.76       134\n",
      "\n"
     ]
    },
    {
     "data": {
      "text/html": [
       "<style  type=\"text/css\" >\n",
       "#T_17b45_row0_col0,#T_17b45_row1_col1{\n",
       "            background-color:  #08306b;\n",
       "            color:  #f1f1f1;\n",
       "        }#T_17b45_row0_col1,#T_17b45_row1_col0{\n",
       "            background-color:  #f7fbff;\n",
       "            color:  #000000;\n",
       "        }</style><table id=\"T_17b45_\" ><thead>    <tr>        <th class=\"blank level0\" ></th>        <th class=\"col_heading level0 col0\" >Predicted False</th>        <th class=\"col_heading level0 col1\" >Predicted True</th>    </tr></thead><tbody>\n",
       "                <tr>\n",
       "                        <th id=\"T_17b45_level0_row0\" class=\"row_heading level0 row0\" >Actual False</th>\n",
       "                        <td id=\"T_17b45_row0_col0\" class=\"data row0 col0\" >11</td>\n",
       "                        <td id=\"T_17b45_row0_col1\" class=\"data row0 col1\" >24</td>\n",
       "            </tr>\n",
       "            <tr>\n",
       "                        <th id=\"T_17b45_level0_row1\" class=\"row_heading level0 row1\" >Actual True</th>\n",
       "                        <td id=\"T_17b45_row1_col0\" class=\"data row1 col0\" >3</td>\n",
       "                        <td id=\"T_17b45_row1_col1\" class=\"data row1 col1\" >96</td>\n",
       "            </tr>\n",
       "    </tbody></table>"
      ],
      "text/plain": [
       "<pandas.io.formats.style.Styler at 0x29f5eaa1160>"
      ]
     },
     "execution_count": 50,
     "metadata": {},
     "output_type": "execute_result"
    }
   ],
   "source": [
    "# Creating predictions from test data\n",
    "forest_random_search_pred = forest_random_search.predict(X_test_temp)\n",
    "\n",
    "# Printing stats\n",
    "print(classification_report(y_test_temp, forest_random_search_pred))\n",
    "df_matrix=pd.DataFrame(confusion_matrix(y_test_temp, forest_random_search_pred), \n",
    "             columns=[\"Predicted False\", \"Predicted True\"], \n",
    "             index=[\"Actual False\", \"Actual True\"])\n",
    "df_matrix.style.background_gradient(cmap='Blues')"
   ]
  },
  {
   "cell_type": "code",
   "execution_count": 51,
   "id": "5f9ded40",
   "metadata": {},
   "outputs": [],
   "source": [
    "def print_report(search_results, top_n = 2):\n",
    "    for i in range(1, top_n + 1):\n",
    "        rank = np.flatnonzero(search_results['rank_test_score'] == i)\n",
    "        for val in rank: \n",
    "            print(\"Model rank: \", i)\n",
    "            print(\"Mean validation score: {:.3f}\".format(search_results['mean_test_score'][val]))\n",
    "            print(\"std_test_score: {:.3f}\".format(search_results['std_test_score'][val]))\n",
    "            print(\"Parameters: {}\\n\".format(format(search_results['params'][val])))\n",
    "            print(f'---------------------------------------------------------------------------')\n"
   ]
  },
  {
   "cell_type": "code",
   "execution_count": 12,
   "id": "cae4f407",
   "metadata": {
    "scrolled": false
   },
   "outputs": [
    {
     "name": "stdout",
     "output_type": "stream",
     "text": [
      "Model rank:  1\n",
      "Mean validation score: 0.836\n",
      "std_test_score: 0.018\n",
      "Parameters: {'criterion': 'gini', 'max_depth': 3, 'max_features': 7, 'min_samples_split': 12}\n",
      "\n",
      "---------------------------------------------------------------------------\n",
      "Model rank:  1\n",
      "Mean validation score: 0.836\n",
      "std_test_score: 0.018\n",
      "Parameters: {'criterion': 'gini', 'max_depth': 2, 'max_features': 10, 'min_samples_split': 6}\n",
      "\n",
      "---------------------------------------------------------------------------\n",
      "Model rank:  1\n",
      "Mean validation score: 0.836\n",
      "std_test_score: 0.018\n",
      "Parameters: {'criterion': 'gini', 'max_depth': 2, 'max_features': 9, 'min_samples_split': 4}\n",
      "\n",
      "---------------------------------------------------------------------------\n",
      "Model rank:  1\n",
      "Mean validation score: 0.836\n",
      "std_test_score: 0.018\n",
      "Parameters: {'criterion': 'entropy', 'max_depth': 2, 'max_features': 12, 'min_samples_split': 9}\n",
      "\n",
      "---------------------------------------------------------------------------\n",
      "Model rank:  1\n",
      "Mean validation score: 0.836\n",
      "std_test_score: 0.018\n",
      "Parameters: {'criterion': 'entropy', 'max_depth': 2, 'max_features': 12, 'min_samples_split': 4}\n",
      "\n",
      "---------------------------------------------------------------------------\n",
      "Model rank:  1\n",
      "Mean validation score: 0.836\n",
      "std_test_score: 0.018\n",
      "Parameters: {'criterion': 'gini', 'max_depth': 2, 'max_features': 11, 'min_samples_split': 12}\n",
      "\n",
      "---------------------------------------------------------------------------\n",
      "Model rank:  1\n",
      "Mean validation score: 0.836\n",
      "std_test_score: 0.018\n",
      "Parameters: {'criterion': 'entropy', 'max_depth': 3, 'max_features': 5, 'min_samples_split': 9}\n",
      "\n",
      "---------------------------------------------------------------------------\n"
     ]
    }
   ],
   "source": [
    "print_report(forest_random_search.cv_results_, 3)"
   ]
  },
  {
   "cell_type": "markdown",
   "id": "e1ab9227",
   "metadata": {},
   "source": [
    "📝**Author's Notes:**\n",
    "\n",
    "* ⚠️All of these produce the same result. Is there an error in my methods?"
   ]
  },
  {
   "cell_type": "markdown",
   "id": "6f7652dd",
   "metadata": {},
   "source": [
    "#### GridSearch"
   ]
  },
  {
   "cell_type": "code",
   "execution_count": 52,
   "id": "6742f315",
   "metadata": {},
   "outputs": [
    {
     "name": "stdout",
     "output_type": "stream",
     "text": [
      "Grid Search took 17.67 seconds for 36 candidate parameter settings.\n",
      "---------------------------------------------------------------------------\n",
      "Best score: 0.836\n",
      "---------------------------------------------------------------------------\n",
      "Best params: {'criterion': 'gini', 'max_depth': 2, 'max_features': 3, 'min_samples_split': 2}\n"
     ]
    }
   ],
   "source": [
    "# Setting up\n",
    "forest_base = RandomForestClassifier(n_estimators=100)\n",
    "\n",
    "param_grid_search = {\n",
    "    'max_depth': [2,3],\n",
    "    'max_features': [3,5,13],\n",
    "    'min_samples_split': [2,3,13],\n",
    "    'criterion': ['gini','entropy']\n",
    "}\n",
    "# Creating a grid search model\n",
    "forest_grid_search = GridSearchCV(forest_base,param_grid=param_grid_search,cv=5)\n",
    "\n",
    "start = time()\n",
    "# Train the model\n",
    "forest_grid_search.fit(X_train_temp,y_train_temp)\n",
    "\n",
    "# Printing results\n",
    "print(\"Grid Search took %.2f seconds for %d candidate parameter settings.\"\n",
    "      % (time() - start, len(forest_grid_search.cv_results_['params'])))\n",
    "print(f'---------------------------------------------------------------------------')\n",
    "print(\"Best score:\", round((forest_grid_search.best_score_),3))\n",
    "print(f'---------------------------------------------------------------------------')\n",
    "print(\"Best params:\", forest_grid_search.best_params_)"
   ]
  },
  {
   "cell_type": "code",
   "execution_count": 40,
   "id": "ee381978",
   "metadata": {},
   "outputs": [
    {
     "name": "stdout",
     "output_type": "stream",
     "text": [
      "              precision    recall  f1-score   support\n",
      "\n",
      "           0       0.79      0.31      0.45        35\n",
      "           1       0.80      0.97      0.88        99\n",
      "\n",
      "    accuracy                           0.80       134\n",
      "   macro avg       0.79      0.64      0.66       134\n",
      "weighted avg       0.80      0.80      0.76       134\n",
      "\n"
     ]
    },
    {
     "data": {
      "text/html": [
       "<style  type=\"text/css\" >\n",
       "#T_c909a_row0_col0,#T_c909a_row1_col1{\n",
       "            background-color:  #08306b;\n",
       "            color:  #f1f1f1;\n",
       "        }#T_c909a_row0_col1,#T_c909a_row1_col0{\n",
       "            background-color:  #f7fbff;\n",
       "            color:  #000000;\n",
       "        }</style><table id=\"T_c909a_\" ><thead>    <tr>        <th class=\"blank level0\" ></th>        <th class=\"col_heading level0 col0\" >Predicted False</th>        <th class=\"col_heading level0 col1\" >Predicted True</th>    </tr></thead><tbody>\n",
       "                <tr>\n",
       "                        <th id=\"T_c909a_level0_row0\" class=\"row_heading level0 row0\" >Actual False</th>\n",
       "                        <td id=\"T_c909a_row0_col0\" class=\"data row0 col0\" >11</td>\n",
       "                        <td id=\"T_c909a_row0_col1\" class=\"data row0 col1\" >24</td>\n",
       "            </tr>\n",
       "            <tr>\n",
       "                        <th id=\"T_c909a_level0_row1\" class=\"row_heading level0 row1\" >Actual True</th>\n",
       "                        <td id=\"T_c909a_row1_col0\" class=\"data row1 col0\" >3</td>\n",
       "                        <td id=\"T_c909a_row1_col1\" class=\"data row1 col1\" >96</td>\n",
       "            </tr>\n",
       "    </tbody></table>"
      ],
      "text/plain": [
       "<pandas.io.formats.style.Styler at 0x29f5e93cfd0>"
      ]
     },
     "execution_count": 40,
     "metadata": {},
     "output_type": "execute_result"
    }
   ],
   "source": [
    "# Create prediction with test data\n",
    "forest_grid_search_pred = forest_grid_search.predict(X_test_temp)\n",
    "\n",
    "# Print out stats\n",
    "print(classification_report(y_test_temp, forest_grid_search_pred))\n",
    "df_matrix=pd.DataFrame(confusion_matrix(y_test_temp, forest_grid_search_pred), \n",
    "             columns=[\"Predicted False\", \"Predicted True\"], \n",
    "             index=[\"Actual False\", \"Actual True\"])\n",
    "df_matrix.style.background_gradient(cmap='Blues')"
   ]
  },
  {
   "cell_type": "markdown",
   "id": "8cd25c59",
   "metadata": {},
   "source": [
    "## Generating ROC Curve"
   ]
  },
  {
   "cell_type": "code",
   "execution_count": 53,
   "id": "6f5ee48d",
   "metadata": {},
   "outputs": [
    {
     "name": "stdout",
     "output_type": "stream",
     "text": [
      "Area Under Random Forests ROC Curve: 0.712\n",
      "Area Under Random Search Random Forests ROC Curve: 0.736\n",
      "Area Under Grid Search Random Forests ROC Curve: 0.741\n"
     ]
    }
   ],
   "source": [
    "# Predicting probabilities for each model\n",
    "# (!) This is using the model trained with the data without outliers.\n",
    "base_prob = forest_1.predict_proba(X_test_temp)\n",
    "random_search_prob = forest_random_search.predict_proba(X_test_temp)\n",
    "grid_search_prob = forest_grid_search.predict_proba(X_test_temp)\n",
    "\n",
    "y_test_temp_01 = y_test_temp.astype('category').cat.codes\n",
    "\n",
    "# Generate ROC areas\n",
    "ROC_area_rfc = roc_auc_score(y_test_temp_01, base_prob[:,1]) \n",
    "ROC_area_random_search_rfc = roc_auc_score(y_test_temp_01, random_search_prob[:,1]) \n",
    "ROC_area_grid_search_rfc = roc_auc_score(y_test_temp_01, grid_search_prob[:,1]) \n",
    "\n",
    "# Printing results\n",
    "print('Area Under Random Forests ROC Curve: %.3f' % ROC_area_rfc)\n",
    "print('Area Under Random Search Random Forests ROC Curve: %.3f' % ROC_area_random_search_rfc)\n",
    "print('Area Under Grid Search Random Forests ROC Curve: %.3f' % ROC_area_grid_search_rfc)"
   ]
  },
  {
   "cell_type": "code",
   "execution_count": 54,
   "id": "568cc224",
   "metadata": {},
   "outputs": [],
   "source": [
    "def plot_rocs(y_test, prob, AUC_ROC, ax, title = 'title'):\n",
    "    fpr, tpr, thresholds = roc_curve(y_test, prob[:,1])\n",
    "    \n",
    "    ax.plot([0, 1], [0, 1], linestyle='--', label = 'Random guess' )\n",
    "    ax.plot(fpr, tpr, marker='.', label = 'ROC - Area Under The Curve: %.3f' % AUC_ROC)\n",
    "    \n",
    "    ax.set_xlim([0, 1])\n",
    "    ax.set_ylim([0, 1])\n",
    "\n",
    "    ax.set_title(title)\n",
    "    ax.set_ylabel('True Positive Rate')\n",
    "    ax.set_xlabel('False Positive Rate')\n",
    "    \n",
    "    ax.legend();"
   ]
  },
  {
   "cell_type": "code",
   "execution_count": 55,
   "id": "3ecde2e5",
   "metadata": {},
   "outputs": [
    {
     "data": {
      "image/png": "[encoded data removed]",
      "text/plain": [
       "<Figure size 1296x360 with 3 Axes>"
      ]
     },
     "metadata": {
      "needs_background": "light"
     },
     "output_type": "display_data"
    }
   ],
   "source": [
    "fig, ax = plt.subplots(nrows = 1, ncols = 3, figsize = (18, 5))\n",
    "\n",
    "plot_rocs(y_test_temp_01, base_prob, ROC_area_rfc, \n",
    "          ax[0], 'ROC - Random Forests (Base model without outliers)')\n",
    "\n",
    "plot_rocs(y_test_temp_01, random_search_prob, ROC_area_random_search_rfc,\n",
    "          ax[1], 'ROC - Random Forests (RandomSearchCV)')\n",
    "\n",
    "plot_rocs(y_test_temp_01, grid_search_prob, ROC_area_grid_search_rfc, \n",
    "          ax[2], 'ROC - Random Forests (GridSearchCV)')"
   ]
  },
  {
   "cell_type": "markdown",
   "id": "19260fdf",
   "metadata": {},
   "source": [
    "### Base Data Set With Outliers"
   ]
  },
  {
   "cell_type": "markdown",
   "id": "ffd76f17",
   "metadata": {},
   "source": [
    "![Base model with outliers ROC image](./base_ROC.png)"
   ]
  },
  {
   "cell_type": "markdown",
   "id": "7a7d650c",
   "metadata": {},
   "source": [
    "📝 **Author's Notes:**\n",
    "* The dataset without outliers provided a higher ROC score on the GridSearch model (.778) compared to the base model and random search."
   ]
  },
  {
   "cell_type": "markdown",
   "id": "e62f5a65",
   "metadata": {},
   "source": [
    "## Saving Best Model"
   ]
  },
  {
   "cell_type": "code",
   "execution_count": 44,
   "id": "56e83bea",
   "metadata": {},
   "outputs": [],
   "source": [
    "pickle.dump(forest_random_search,open('best_random_forest_model.sav','wb'))"
   ]
  },
  {
   "cell_type": "markdown",
   "id": "488f0d5e",
   "metadata": {},
   "source": [
    "### Double checking if the model was saved"
   ]
  },
  {
   "cell_type": "code",
   "execution_count": 45,
   "id": "c14ca0aa",
   "metadata": {},
   "outputs": [
    {
     "name": "stdout",
     "output_type": "stream",
     "text": [
      "Saved\n",
      "[[11 24]\n",
      " [ 3 96]]\n",
      "Original\n",
      "[[11 24]\n",
      " [ 3 96]]\n"
     ]
    }
   ],
   "source": [
    "loaded_model = pickle.load(open('best_random_forest_model.sav','rb'))\n",
    "print('Saved')\n",
    "print(confusion_matrix(y_test_temp, loaded_model.predict(X_test_temp)))\n",
    "print('Original')\n",
    "print(confusion_matrix(y_test_temp, forest_random_search.predict(X_test_temp)))"
   ]
  },
  {
   "cell_type": "code",
   "execution_count": null,
   "id": "34724234",
   "metadata": {},
   "outputs": [],
   "source": []
  }
 ],
 "metadata": {
  "kernelspec": {
   "display_name": "Python 3",
   "language": "python",
   "name": "python3"
  },
  "language_info": {
   "codemirror_mode": {
    "name": "ipython",
    "version": 3
   },
   "file_extension": ".py",
   "mimetype": "text/x-python",
   "name": "python",
   "nbconvert_exporter": "python",
   "pygments_lexer": "ipython3",
   "version": "3.8.8"
  }
 },
 "nbformat": 4,
 "nbformat_minor": 5
}
