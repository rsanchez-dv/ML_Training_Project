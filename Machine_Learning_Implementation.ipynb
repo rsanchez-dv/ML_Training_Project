{
 "cells": [
  {
   "cell_type": "markdown",
   "id": "7a58b019",
   "metadata": {},
   "source": [
    "# Machine Learning Implementation"
   ]
  },
  {
   "cell_type": "markdown",
   "id": "d658ad0d",
   "metadata": {},
   "source": [
    "This document contains the actual data splitting, training, and metrics for the following machine learning models (random forests, support vector  machines) "
   ]
  },
  {
   "cell_type": "markdown",
   "id": "fed34f70",
   "metadata": {},
   "source": [
    "## Importing our libraries"
   ]
  },
  {
   "cell_type": "code",
   "execution_count": 6,
   "id": "1d838f4a",
   "metadata": {},
   "outputs": [],
   "source": [
    "# Importing libraries\n",
    "import pandas as pd\n",
    "import numpy as np\n",
    "import matplotlib.pyplot as plt\n",
    "import seaborn as sns\n",
    "\n",
    "from sklearn.model_selection import train_test_split\n",
    "from sklearn.ensemble import RandomForestClassifier\n",
    "from sklearn.metrics import classification_report, confusion_matrix, plot_confusion_matrix,roc_auc_score, roc_curve\n",
    "from sklearn.svm import SVC\n",
    "import pickle"
   ]
  },
  {
   "cell_type": "markdown",
   "id": "f9159e40",
   "metadata": {},
   "source": [
    "## Reading saved clean data"
   ]
  },
  {
   "cell_type": "code",
   "execution_count": 8,
   "id": "a838474e",
   "metadata": {},
   "outputs": [
    {
     "data": {
      "text/html": [
       "<div>\n",
       "<style scoped>\n",
       "    .dataframe tbody tr th:only-of-type {\n",
       "        vertical-align: middle;\n",
       "    }\n",
       "\n",
       "    .dataframe tbody tr th {\n",
       "        vertical-align: top;\n",
       "    }\n",
       "\n",
       "    .dataframe thead th {\n",
       "        text-align: right;\n",
       "    }\n",
       "</style>\n",
       "<table border=\"1\" class=\"dataframe\">\n",
       "  <thead>\n",
       "    <tr style=\"text-align: right;\">\n",
       "      <th></th>\n",
       "      <th>ApplicantIncome</th>\n",
       "      <th>CoapplicantIncome</th>\n",
       "      <th>LoanAmount</th>\n",
       "      <th>Loan_Amount_Term</th>\n",
       "      <th>Credit_History</th>\n",
       "      <th>Gender</th>\n",
       "      <th>Married</th>\n",
       "      <th>Education</th>\n",
       "      <th>Self_Employed</th>\n",
       "      <th>Loan_Status</th>\n",
       "      <th>Semiurban</th>\n",
       "      <th>Urban</th>\n",
       "      <th>1</th>\n",
       "      <th>2</th>\n",
       "      <th>3+</th>\n",
       "    </tr>\n",
       "  </thead>\n",
       "  <tbody>\n",
       "    <tr>\n",
       "      <th>0</th>\n",
       "      <td>5849</td>\n",
       "      <td>0.0</td>\n",
       "      <td>146.412162</td>\n",
       "      <td>360.0</td>\n",
       "      <td>1.0</td>\n",
       "      <td>1</td>\n",
       "      <td>0</td>\n",
       "      <td>0</td>\n",
       "      <td>0</td>\n",
       "      <td>1</td>\n",
       "      <td>0</td>\n",
       "      <td>1</td>\n",
       "      <td>0</td>\n",
       "      <td>0</td>\n",
       "      <td>0</td>\n",
       "    </tr>\n",
       "    <tr>\n",
       "      <th>1</th>\n",
       "      <td>4583</td>\n",
       "      <td>1508.0</td>\n",
       "      <td>128.000000</td>\n",
       "      <td>360.0</td>\n",
       "      <td>1.0</td>\n",
       "      <td>1</td>\n",
       "      <td>1</td>\n",
       "      <td>0</td>\n",
       "      <td>0</td>\n",
       "      <td>0</td>\n",
       "      <td>0</td>\n",
       "      <td>0</td>\n",
       "      <td>1</td>\n",
       "      <td>0</td>\n",
       "      <td>0</td>\n",
       "    </tr>\n",
       "    <tr>\n",
       "      <th>2</th>\n",
       "      <td>3000</td>\n",
       "      <td>0.0</td>\n",
       "      <td>66.000000</td>\n",
       "      <td>360.0</td>\n",
       "      <td>1.0</td>\n",
       "      <td>1</td>\n",
       "      <td>1</td>\n",
       "      <td>0</td>\n",
       "      <td>1</td>\n",
       "      <td>1</td>\n",
       "      <td>0</td>\n",
       "      <td>1</td>\n",
       "      <td>0</td>\n",
       "      <td>0</td>\n",
       "      <td>0</td>\n",
       "    </tr>\n",
       "    <tr>\n",
       "      <th>3</th>\n",
       "      <td>2583</td>\n",
       "      <td>2358.0</td>\n",
       "      <td>120.000000</td>\n",
       "      <td>360.0</td>\n",
       "      <td>1.0</td>\n",
       "      <td>1</td>\n",
       "      <td>1</td>\n",
       "      <td>1</td>\n",
       "      <td>0</td>\n",
       "      <td>1</td>\n",
       "      <td>0</td>\n",
       "      <td>1</td>\n",
       "      <td>0</td>\n",
       "      <td>0</td>\n",
       "      <td>0</td>\n",
       "    </tr>\n",
       "    <tr>\n",
       "      <th>4</th>\n",
       "      <td>6000</td>\n",
       "      <td>0.0</td>\n",
       "      <td>141.000000</td>\n",
       "      <td>360.0</td>\n",
       "      <td>1.0</td>\n",
       "      <td>1</td>\n",
       "      <td>0</td>\n",
       "      <td>0</td>\n",
       "      <td>0</td>\n",
       "      <td>1</td>\n",
       "      <td>0</td>\n",
       "      <td>1</td>\n",
       "      <td>0</td>\n",
       "      <td>0</td>\n",
       "      <td>0</td>\n",
       "    </tr>\n",
       "  </tbody>\n",
       "</table>\n",
       "</div>"
      ],
      "text/plain": [
       "   ApplicantIncome  CoapplicantIncome  LoanAmount  Loan_Amount_Term  \\\n",
       "0             5849                0.0  146.412162             360.0   \n",
       "1             4583             1508.0  128.000000             360.0   \n",
       "2             3000                0.0   66.000000             360.0   \n",
       "3             2583             2358.0  120.000000             360.0   \n",
       "4             6000                0.0  141.000000             360.0   \n",
       "\n",
       "   Credit_History  Gender  Married  Education  Self_Employed  Loan_Status  \\\n",
       "0             1.0       1        0          0              0            1   \n",
       "1             1.0       1        1          0              0            0   \n",
       "2             1.0       1        1          0              1            1   \n",
       "3             1.0       1        1          1              0            1   \n",
       "4             1.0       1        0          0              0            1   \n",
       "\n",
       "   Semiurban  Urban  1  2  3+  \n",
       "0          0      1  0  0   0  \n",
       "1          0      0  1  0   0  \n",
       "2          0      1  0  0   0  \n",
       "3          0      1  0  0   0  \n",
       "4          0      1  0  0   0  "
      ]
     },
     "metadata": {},
     "output_type": "display_data"
    },
    {
     "name": "stdout",
     "output_type": "stream",
     "text": [
      "(614, 15)\n"
     ]
    },
    {
     "data": {
      "text/html": [
       "<div>\n",
       "<style scoped>\n",
       "    .dataframe tbody tr th:only-of-type {\n",
       "        vertical-align: middle;\n",
       "    }\n",
       "\n",
       "    .dataframe tbody tr th {\n",
       "        vertical-align: top;\n",
       "    }\n",
       "\n",
       "    .dataframe thead th {\n",
       "        text-align: right;\n",
       "    }\n",
       "</style>\n",
       "<table border=\"1\" class=\"dataframe\">\n",
       "  <thead>\n",
       "    <tr style=\"text-align: right;\">\n",
       "      <th></th>\n",
       "      <th>ApplicantIncome</th>\n",
       "      <th>CoapplicantIncome</th>\n",
       "      <th>LoanAmount</th>\n",
       "      <th>Loan_Amount_Term</th>\n",
       "      <th>Credit_History</th>\n",
       "      <th>Gender</th>\n",
       "      <th>Married</th>\n",
       "      <th>Education</th>\n",
       "      <th>Self_Employed</th>\n",
       "      <th>Loan_Status</th>\n",
       "      <th>Semiurban</th>\n",
       "      <th>Urban</th>\n",
       "      <th>1</th>\n",
       "      <th>2</th>\n",
       "      <th>3+</th>\n",
       "    </tr>\n",
       "  </thead>\n",
       "  <tbody>\n",
       "    <tr>\n",
       "      <th>0</th>\n",
       "      <td>5849</td>\n",
       "      <td>0.0</td>\n",
       "      <td>146.412162</td>\n",
       "      <td>360.0</td>\n",
       "      <td>1.0</td>\n",
       "      <td>1</td>\n",
       "      <td>0</td>\n",
       "      <td>0</td>\n",
       "      <td>0</td>\n",
       "      <td>1</td>\n",
       "      <td>0</td>\n",
       "      <td>1</td>\n",
       "      <td>0</td>\n",
       "      <td>0</td>\n",
       "      <td>0</td>\n",
       "    </tr>\n",
       "    <tr>\n",
       "      <th>1</th>\n",
       "      <td>4583</td>\n",
       "      <td>1508.0</td>\n",
       "      <td>128.000000</td>\n",
       "      <td>360.0</td>\n",
       "      <td>1.0</td>\n",
       "      <td>1</td>\n",
       "      <td>1</td>\n",
       "      <td>0</td>\n",
       "      <td>0</td>\n",
       "      <td>0</td>\n",
       "      <td>0</td>\n",
       "      <td>0</td>\n",
       "      <td>1</td>\n",
       "      <td>0</td>\n",
       "      <td>0</td>\n",
       "    </tr>\n",
       "    <tr>\n",
       "      <th>2</th>\n",
       "      <td>3000</td>\n",
       "      <td>0.0</td>\n",
       "      <td>66.000000</td>\n",
       "      <td>360.0</td>\n",
       "      <td>1.0</td>\n",
       "      <td>1</td>\n",
       "      <td>1</td>\n",
       "      <td>0</td>\n",
       "      <td>1</td>\n",
       "      <td>1</td>\n",
       "      <td>0</td>\n",
       "      <td>1</td>\n",
       "      <td>0</td>\n",
       "      <td>0</td>\n",
       "      <td>0</td>\n",
       "    </tr>\n",
       "    <tr>\n",
       "      <th>3</th>\n",
       "      <td>2583</td>\n",
       "      <td>2358.0</td>\n",
       "      <td>120.000000</td>\n",
       "      <td>360.0</td>\n",
       "      <td>1.0</td>\n",
       "      <td>1</td>\n",
       "      <td>1</td>\n",
       "      <td>1</td>\n",
       "      <td>0</td>\n",
       "      <td>1</td>\n",
       "      <td>0</td>\n",
       "      <td>1</td>\n",
       "      <td>0</td>\n",
       "      <td>0</td>\n",
       "      <td>0</td>\n",
       "    </tr>\n",
       "    <tr>\n",
       "      <th>4</th>\n",
       "      <td>6000</td>\n",
       "      <td>0.0</td>\n",
       "      <td>141.000000</td>\n",
       "      <td>360.0</td>\n",
       "      <td>1.0</td>\n",
       "      <td>1</td>\n",
       "      <td>0</td>\n",
       "      <td>0</td>\n",
       "      <td>0</td>\n",
       "      <td>1</td>\n",
       "      <td>0</td>\n",
       "      <td>1</td>\n",
       "      <td>0</td>\n",
       "      <td>0</td>\n",
       "      <td>0</td>\n",
       "    </tr>\n",
       "  </tbody>\n",
       "</table>\n",
       "</div>"
      ],
      "text/plain": [
       "   ApplicantIncome  CoapplicantIncome  LoanAmount  Loan_Amount_Term  \\\n",
       "0             5849                0.0  146.412162             360.0   \n",
       "1             4583             1508.0  128.000000             360.0   \n",
       "2             3000                0.0   66.000000             360.0   \n",
       "3             2583             2358.0  120.000000             360.0   \n",
       "4             6000                0.0  141.000000             360.0   \n",
       "\n",
       "   Credit_History  Gender  Married  Education  Self_Employed  Loan_Status  \\\n",
       "0             1.0       1        0          0              0            1   \n",
       "1             1.0       1        1          0              0            0   \n",
       "2             1.0       1        1          0              1            1   \n",
       "3             1.0       1        1          1              0            1   \n",
       "4             1.0       1        0          0              0            1   \n",
       "\n",
       "   Semiurban  Urban  1  2  3+  \n",
       "0          0      1  0  0   0  \n",
       "1          0      0  1  0   0  \n",
       "2          0      1  0  0   0  \n",
       "3          0      1  0  0   0  \n",
       "4          0      1  0  0   0  "
      ]
     },
     "metadata": {},
     "output_type": "display_data"
    },
    {
     "name": "stdout",
     "output_type": "stream",
     "text": [
      "(445, 15)\n"
     ]
    }
   ],
   "source": [
    "base_df = pd.read_pickle('cleaned_data_loan_approval.pkl')\n",
    "base_no_outliers_df = pd.read_pickle('cleaned_data_loan_approval_without_outliers.pkl')\n",
    "display(base_df.head())\n",
    "print(base_df.shape)\n",
    "display(base_no_outliers_df.head())\n",
    "print(base_no_outliers_df.shape)"
   ]
  },
  {
   "cell_type": "markdown",
   "id": "2e88ec9a",
   "metadata": {},
   "source": [
    "## Splitting Data"
   ]
  },
  {
   "cell_type": "code",
   "execution_count": 13,
   "id": "a6e460ce",
   "metadata": {},
   "outputs": [
    {
     "name": "stdout",
     "output_type": "stream",
     "text": [
      "Shape: X(614, 14), y(614,)\n",
      "Shape: X_1(445, 14), y_1(445,)\n"
     ]
    }
   ],
   "source": [
    "# Base Model\n",
    "X = base_df[['LoanAmount','ApplicantIncome','CoapplicantIncome','Loan_Amount_Term','Credit_History','Gender', 'Married', 'Education', 'Self_Employed','Semiurban','Urban','1','2','3+' ]]\n",
    "y = base_df['Loan_Status']\n",
    "\n",
    "# With outliers removed\n",
    "X_1 = base_no_outliers_df[['LoanAmount','ApplicantIncome','CoapplicantIncome','Loan_Amount_Term','Credit_History','Gender', 'Married', 'Education', 'Self_Employed','Semiurban','Urban','1','2','3+' ]]\n",
    "y_1 = base_no_outliers_df['Loan_Status']\n",
    "\n",
    "print(f'Shape: X{X.shape}, y{y.shape}')\n",
    "print(f'Shape: X_1{X_1.shape}, y_1{y_1.shape}')"
   ]
  },
  {
   "cell_type": "markdown",
   "id": "addaf2fe",
   "metadata": {},
   "source": [
    "## Training Random Forest Models"
   ]
  },
  {
   "cell_type": "markdown",
   "id": "78eba1d2",
   "metadata": {},
   "source": [
    "### Base Models"
   ]
  },
  {
   "cell_type": "code",
   "execution_count": 20,
   "id": "2ec34188",
   "metadata": {},
   "outputs": [
    {
     "name": "stdout",
     "output_type": "stream",
     "text": [
      "              precision    recall  f1-score   support\n",
      "\n",
      "           0       0.73      0.48      0.58        63\n",
      "           1       0.77      0.91      0.83       122\n",
      "\n",
      "    accuracy                           0.76       185\n",
      "   macro avg       0.75      0.69      0.71       185\n",
      "weighted avg       0.76      0.76      0.75       185\n",
      "\n",
      "<sklearn.metrics._plot.confusion_matrix.ConfusionMatrixDisplay object at 0x00000251296E15E0>\n"
     ]
    },
    {
     "data": {
      "image/png": "[encoded data removed]",
      "text/plain": [
       "<Figure size 432x288 with 2 Axes>"
      ]
     },
     "metadata": {
      "needs_background": "light"
     },
     "output_type": "display_data"
    }
   ],
   "source": [
    "X_train, X_test, y_train, y_test = train_test_split(X,y,test_size = 0.3, random_state = 100)\n",
    "\n",
    "forest = RandomForestClassifier(n_estimators = 100)\n",
    "\n",
    "forest.fit(X_train,y_train)\n",
    "\n",
    "forest_pred = forest.predict(X_test)\n",
    "\n",
    "print(classification_report(y_test, forest_pred))\n",
    "print(plot_confusion_matrix(forest, X_test,y_test, cmap=plt.cm.Blues))"
   ]
  },
  {
   "cell_type": "markdown",
   "id": "1be53626",
   "metadata": {},
   "source": [
    "### Without Outliers"
   ]
  },
  {
   "cell_type": "code",
   "execution_count": 21,
   "id": "78548816",
   "metadata": {},
   "outputs": [
    {
     "name": "stdout",
     "output_type": "stream",
     "text": [
      "              precision    recall  f1-score   support\n",
      "\n",
      "           0       0.71      0.34      0.46        35\n",
      "           1       0.80      0.95      0.87        99\n",
      "\n",
      "    accuracy                           0.79       134\n",
      "   macro avg       0.75      0.65      0.67       134\n",
      "weighted avg       0.78      0.79      0.76       134\n",
      "\n",
      "<sklearn.metrics._plot.confusion_matrix.ConfusionMatrixDisplay object at 0x00000251301C9D60>\n"
     ]
    },
    {
     "data": {
      "image/png": "[encoded data removed]",
      "text/plain": [
       "<Figure size 432x288 with 2 Axes>"
      ]
     },
     "metadata": {
      "needs_background": "light"
     },
     "output_type": "display_data"
    }
   ],
   "source": [
    "X_train_1, X_test_1, y_train_1, y_test_1 = train_test_split(X_1,y_1,test_size = 0.3, random_state = 100)\n",
    "\n",
    "forest_1 = RandomForestClassifier(n_estimators = 100)\n",
    "forest_1.fit(X_train_1,y_train_1)\n",
    "\n",
    "forest_pred_1 = forest_1.predict(X_test_1)\n",
    "print(classification_report(y_test_1, forest_pred_1))\n",
    "print(plot_confusion_matrix(forest_1, X_test_1,y_test_1, cmap=plt.cm.Blues))"
   ]
  },
  {
   "cell_type": "markdown",
   "id": "ebb81517",
   "metadata": {},
   "source": [
    "## Feature Importance"
   ]
  },
  {
   "cell_type": "code",
   "execution_count": 23,
   "id": "bc8a074c",
   "metadata": {},
   "outputs": [],
   "source": [
    "def feature_plot(coef, columns,y_title = 'coefficients'):\n",
    "    feature_imp = pd.DataFrame(coef.T, columns = ['importance'])\n",
    "    feature_imp['feature'] = columns\n",
    "    feature_imp.sort_values(by=['importance'], ascending = False, inplace = True)\n",
    "    feature_imp.plot(x = 'feature', kind = 'bar', figsize = (16,4))\n",
    "    plt.title(y_title)\n",
    "    plt.ylabel(y_title)"
   ]
  },
  {
   "cell_type": "code",
   "execution_count": 24,
   "id": "8ad0ca56",
   "metadata": {},
   "outputs": [
    {
     "data": {
      "image/png": "[encoded data removed]",
      "text/plain": [
       "<Figure size 1152x288 with 1 Axes>"
      ]
     },
     "metadata": {
      "needs_background": "light"
     },
     "output_type": "display_data"
    },
    {
     "data": {
      "image/png": "[encoded data removed]",
      "text/plain": [
       "<Figure size 1152x288 with 1 Axes>"
      ]
     },
     "metadata": {
      "needs_background": "light"
     },
     "output_type": "display_data"
    }
   ],
   "source": [
    "feature_names = list(base_df.columns)\n",
    "feature_names_1 = list(base_no_outliers_df.columns)\n",
    "\n",
    "feature_names.remove('Loan_Status')\n",
    "feature_names_1.remove('Loan_Status')\n",
    "\n",
    "feature_plot(coef= forest.feature_importances_, columns=feature_names, y_title='forest feature importance')\n",
    "feature_plot(coef= forest_1.feature_importances_, columns=feature_names_1, y_title='forest feature importance no outliers')"
   ]
  },
  {
   "cell_type": "markdown",
   "id": "79fefb55",
   "metadata": {},
   "source": [
    "### Generating an ROC Curve for Base Model, GridSearch, and RandomSearch"
   ]
  },
  {
   "cell_type": "code",
   "execution_count": null,
   "id": "b338ca16",
   "metadata": {},
   "outputs": [],
   "source": []
  }
 ],
 "metadata": {
  "kernelspec": {
   "display_name": "Python 3",
   "language": "python",
   "name": "python3"
  },
  "language_info": {
   "codemirror_mode": {
    "name": "ipython",
    "version": 3
   },
   "file_extension": ".py",
   "mimetype": "text/x-python",
   "name": "python",
   "nbconvert_exporter": "python",
   "pygments_lexer": "ipython3",
   "version": "3.8.8"
  }
 },
 "nbformat": 4,
 "nbformat_minor": 5
}
